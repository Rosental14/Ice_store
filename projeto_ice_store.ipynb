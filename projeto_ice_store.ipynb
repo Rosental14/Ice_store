{
 "cells": [
  {
   "cell_type": "markdown",
   "metadata": {},
   "source": [
    "<center>\n",
    "\n",
    "# ICE STORE - GAMES FOR EVERYONE # \n",
    "\n",
    "# Planejamento da campanha publicitária de 2017 #"
   ]
  },
  {
   "cell_type": "markdown",
   "metadata": {},
   "source": [
    "**<center>Neste projeto analisaremos dados históricos sobre video-games com o objetivo de planejarmos a campanha publicitária para o próximo ano.**"
   ]
  },
  {
   "cell_type": "code",
   "execution_count": 1,
   "metadata": {},
   "outputs": [],
   "source": [
    "#importando as bibliotecas necessárias para o desenvolvimento do trabalho\n",
    "import pandas as pd\n",
    "import numpy as np\n",
    "import seaborn as sns\n",
    "import math as mt\n",
    "from matplotlib import pyplot as plt\n",
    "from scipy import stats as st\n",
    "import requests"
   ]
  },
  {
   "cell_type": "code",
   "execution_count": 2,
   "metadata": {},
   "outputs": [
    {
     "name": "stdout",
     "output_type": "stream",
     "text": [
      "                                            Name Platform  Year_of_Release  \\\n",
      "13361                               Gem Smashers      Wii           2011.0   \n",
      "16189  Major Dream: Major Wii Nagero! Gyroball!!      Wii           2008.0   \n",
      "1048                            Imagine: Teacher       DS           2008.0   \n",
      "14107            Monster Kingdom: Jewel Summoner      PSP           2006.0   \n",
      "617               PES 2009: Pro Evolution Soccer      PS2           2008.0   \n",
      "\n",
      "              Genre  NA_sales  EU_sales  JP_sales  Other_sales  Critic_Score  \\\n",
      "13361      Platform      0.04      0.00      0.00         0.00           NaN   \n",
      "16189        Sports      0.00      0.00      0.01         0.00           NaN   \n",
      "1048     Simulation      0.70      0.82      0.00         0.19           NaN   \n",
      "14107  Role-Playing      0.00      0.00      0.04         0.00          66.0   \n",
      "617          Sports      0.13      0.07      0.26         2.05           NaN   \n",
      "\n",
      "      User_Score Rating  \n",
      "13361        tbd      E  \n",
      "16189        NaN    NaN  \n",
      "1048         tbd      E  \n",
      "14107        6.8      T  \n",
      "617          NaN    NaN  \n"
     ]
    }
   ],
   "source": [
    "#lendo o arquivo e imprimindo 5 linhas do DataFrame para visualização do padrão\n",
    "df_games = pd.read_csv('/datasets/games.csv')\n",
    "print(df_games.sample(5))"
   ]
  },
  {
   "cell_type": "code",
   "execution_count": 3,
   "metadata": {},
   "outputs": [
    {
     "name": "stdout",
     "output_type": "stream",
     "text": [
      "<class 'pandas.core.frame.DataFrame'>\n",
      "RangeIndex: 16715 entries, 0 to 16714\n",
      "Data columns (total 11 columns):\n",
      " #   Column           Non-Null Count  Dtype  \n",
      "---  ------           --------------  -----  \n",
      " 0   Name             16713 non-null  object \n",
      " 1   Platform         16715 non-null  object \n",
      " 2   Year_of_Release  16446 non-null  float64\n",
      " 3   Genre            16713 non-null  object \n",
      " 4   NA_sales         16715 non-null  float64\n",
      " 5   EU_sales         16715 non-null  float64\n",
      " 6   JP_sales         16715 non-null  float64\n",
      " 7   Other_sales      16715 non-null  float64\n",
      " 8   Critic_Score     8137 non-null   float64\n",
      " 9   User_Score       10014 non-null  object \n",
      " 10  Rating           9949 non-null   object \n",
      "dtypes: float64(6), object(5)\n",
      "memory usage: 1.4+ MB\n"
     ]
    }
   ],
   "source": [
    "# imprimindo informações básicas sobre o DataFrame (colunas, quantidade de linhas, tipo de dados, dados ausentes)\n",
    "df_games.info()"
   ]
  },
  {
   "cell_type": "code",
   "execution_count": 4,
   "metadata": {},
   "outputs": [
    {
     "name": "stdout",
     "output_type": "stream",
     "text": [
      "0\n"
     ]
    }
   ],
   "source": [
    "# Analisando se o DataFrame apresenta linhas duplicadas\n",
    "print(df_games.duplicated().sum())"
   ]
  },
  {
   "cell_type": "code",
   "execution_count": 5,
   "metadata": {},
   "outputs": [
    {
     "name": "stdout",
     "output_type": "stream",
     "text": [
      "Name                  2\n",
      "Platform              0\n",
      "Year_of_Release     269\n",
      "Genre                 2\n",
      "NA_sales              0\n",
      "EU_sales              0\n",
      "JP_sales              0\n",
      "Other_sales           0\n",
      "Critic_Score       8578\n",
      "User_Score         6701\n",
      "Rating             6766\n",
      "dtype: int64\n"
     ]
    }
   ],
   "source": [
    "# Analisando a quantidade de linhas com dados ausentes em cada coluna\n",
    "print(df_games.isna().sum())"
   ]
  },
  {
   "cell_type": "markdown",
   "metadata": {},
   "source": [
    "## Pré-processamento das informações do DataFrame para tratamentos iniciais ##\n",
    "\n",
    "O arquivo contém 11 colunas e 16.715 linhas. O DataFrame, a princípio, não apresenta linhas duplicadas.\n",
    "\n",
    "* Os nomes das colunas necessitam ser ajustados para snake_case.\n",
    "\n",
    "\n",
    "**Algumas colunas necessitam avaliação ou ajustes conforme descrito abaixo:**\n",
    "\n",
    "\n",
    "* **Name**: contém 2 linhas com valores ausentes e contém letras maiúsculas;\n",
    "* **Platform**: as siglas estão em letras maiúsculas. Também é interessante converter os dados para o tipo 'categorical';\n",
    "* **Year_of_Release**: contém informações ausentes (269);\n",
    "* **Genre**: contém 2 linhas com informações ausentes, possui letras maiúsculas e convém converter para o tipo 'categorical';\n",
    "* **Critic_Score**: Apresenta muitas linhas com dados ausentes (8.578);\n",
    "* **User_Score**: Apresenta muitos dados ausentes (6.701) e os dados são do tipo object, quando deveriam ser Float;\n",
    "* **Rating**: Apresenta dados ausentes (6.766). Convém converter para o tipo 'categorical"
   ]
  },
  {
   "cell_type": "markdown",
   "metadata": {},
   "source": [
    "###  Ajustando os nomes das colunas ###"
   ]
  },
  {
   "cell_type": "code",
   "execution_count": 6,
   "metadata": {},
   "outputs": [
    {
     "name": "stdout",
     "output_type": "stream",
     "text": [
      "Index(['name', 'platform', 'year_of_release', 'genre', 'na_sales', 'eu_sales',\n",
      "       'jp_sales', 'other_sales', 'critic_score', 'user_score', 'rating'],\n",
      "      dtype='object')\n"
     ]
    }
   ],
   "source": [
    "new_col_names = [] #criando uma lista para anexar os nomes modificados\n",
    "\n",
    "for old_name in df_games.columns: # usando ciclo for para renomear automaticamente todas as colunas\n",
    "    name_stripped = old_name.strip() # retirando possíveis espaços no início e no final do nome\n",
    "    name_lowered = name_stripped.lower() # passando todas as letras para minúscula\n",
    "    new_col_names.append(name_lowered) # anexando os nomes transformados na lista new_col_names\n",
    "\n",
    "df_games.columns = new_col_names # modificando os nomes das colunas do DF com o método .columns\n",
    "\n",
    "print(df_games.columns)"
   ]
  },
  {
   "cell_type": "markdown",
   "metadata": {},
   "source": [
    "### Coluna 'names' ###\n",
    "\n",
    "contém 2 linhas com valores ausentes e contém letras maiúsculas"
   ]
  },
  {
   "cell_type": "code",
   "execution_count": 7,
   "metadata": {},
   "outputs": [
    {
     "name": "stdout",
     "output_type": "stream",
     "text": [
      "      name platform  year_of_release genre  na_sales  eu_sales  jp_sales  \\\n",
      "659    NaN      GEN           1993.0   NaN      1.78      0.53      0.00   \n",
      "14244  NaN      GEN           1993.0   NaN      0.00      0.00      0.03   \n",
      "\n",
      "       other_sales  critic_score user_score rating  \n",
      "659           0.08           NaN        NaN    NaN  \n",
      "14244         0.00           NaN        NaN    NaN  \n"
     ]
    }
   ],
   "source": [
    "# Imprimindo as linhas com valores ausentes para verificar as demais informações\n",
    "print(df_games[df_games['name'].isna()])"
   ]
  },
  {
   "cell_type": "markdown",
   "metadata": {},
   "source": [
    "**Sem o nome do jogo, toda informação torna-se inútil. Portanto, removeremos as 2 linhas com dados ausentes na coluna nome**"
   ]
  },
  {
   "cell_type": "code",
   "execution_count": 8,
   "metadata": {},
   "outputs": [
    {
     "name": "stdout",
     "output_type": "stream",
     "text": [
      "0\n"
     ]
    }
   ],
   "source": [
    "# utilizando método dropna() para remoção das linhas com o parâmetro subset para especificação da coluna 'name'\n",
    "df_games = df_games.dropna(subset=['name']) \n",
    "\n",
    "print(df_games['name'].isna().sum()) # checando se as linhas foram removidas com sucesso"
   ]
  },
  {
   "cell_type": "code",
   "execution_count": 9,
   "metadata": {},
   "outputs": [
    {
     "name": "stdout",
     "output_type": "stream",
     "text": [
      "5776    lord of the rings: battle for middle-earth\n",
      "5978                           little king's story\n",
      "9077        marvel vs. capcom 2: new age of heroes\n",
      "Name: name, dtype: object\n"
     ]
    }
   ],
   "source": [
    "# transformando todas as letras em minúsculas com método lower()\n",
    "df_games['name'] = df_games['name'].str.lower()\n",
    "\n",
    "#imprimindo para checar a alteração\n",
    "print(df_games['name'].sample(3)) "
   ]
  },
  {
   "cell_type": "markdown",
   "metadata": {},
   "source": [
    "### Coluna ' platform'\n",
    "\n",
    "As siglas das plataformas estão em letras maiúsculas"
   ]
  },
  {
   "cell_type": "code",
   "execution_count": 10,
   "metadata": {},
   "outputs": [],
   "source": [
    "# transformando todas as letras em minúsculas com método lower()\n",
    "df_games['platform'] = df_games['platform'].str.lower()"
   ]
  },
  {
   "cell_type": "code",
   "execution_count": 11,
   "metadata": {},
   "outputs": [
    {
     "name": "stdout",
     "output_type": "stream",
     "text": [
      "['2600' '3do' '3ds' 'dc' 'ds' 'gb' 'gba' 'gc' 'gen' 'gg' 'n64' 'nes' 'ng'\n",
      " 'pc' 'pcfx' 'ps' 'ps2' 'ps3' 'ps4' 'psp' 'psv' 'sat' 'scd' 'snes' 'tg16'\n",
      " 'wii' 'wiiu' 'ws' 'x360' 'xb' 'xone']\n"
     ]
    }
   ],
   "source": [
    "# Checando possível duplicidade de nomes após transformar todas as letras em minúscula\n",
    "print(df_games['platform'].sort_values().unique())"
   ]
  },
  {
   "cell_type": "code",
   "execution_count": 12,
   "metadata": {},
   "outputs": [
    {
     "name": "stdout",
     "output_type": "stream",
     "text": [
      "6519    wii\n",
      "Name: platform, dtype: category\n",
      "Categories (31, object): ['2600', '3do', '3ds', 'dc', ..., 'ws', 'x360', 'xb', 'xone']\n"
     ]
    }
   ],
   "source": [
    "# Convertendo os dados para tipo categorical\n",
    "df_games['platform'] = df_games['platform'].astype('category')\n",
    "\n",
    "#checando letras minúsculas e tipo de dados\n",
    "print(df_games['platform'].sample(1))"
   ]
  },
  {
   "cell_type": "markdown",
   "metadata": {},
   "source": [
    "### Coluna year_of_release ###\n",
    "\n",
    "contém informações ausentes (269)"
   ]
  },
  {
   "cell_type": "markdown",
   "metadata": {},
   "source": [
    "**As outras colunas contém informações relevantes, então não podemos eliminar as linhas que contém informações ausentes em relação ao ano de lançamento. Porém, como trata-se de ano de lançamento, não podemos preenchê-las com média ou mediana, pois teríamos dados errados sobre o jogo. Por este motivo, deixaremos os dados como ausentes (NaN).**"
   ]
  },
  {
   "cell_type": "markdown",
   "metadata": {},
   "source": [
    "### Coluna genre ###\n",
    "\n",
    "contém 2 linhas com informações ausentes, possui letras maiúsculas e convém converter para o tipo 'categorical'"
   ]
  },
  {
   "cell_type": "code",
   "execution_count": 13,
   "metadata": {},
   "outputs": [
    {
     "name": "stdout",
     "output_type": "stream",
     "text": [
      "0\n"
     ]
    }
   ],
   "source": [
    "# As 2 linhas com valores ausentes na coluna 'genre' foram eliminadas juntamente com as da coluna 'name'\n",
    "print(df_games['genre'].isna().sum())"
   ]
  },
  {
   "cell_type": "code",
   "execution_count": 14,
   "metadata": {},
   "outputs": [
    {
     "name": "stdout",
     "output_type": "stream",
     "text": [
      "['action' 'adventure' 'fighting' 'misc' 'platform' 'puzzle' 'racing'\n",
      " 'role-playing' 'shooter' 'simulation' 'sports' 'strategy']\n"
     ]
    }
   ],
   "source": [
    "# Transformando todas as letras em minúsculas\n",
    "df_games['genre'] = df_games['genre'].str.lower()\n",
    "\n",
    "# imprimindo para checar possíveis duplicidades de gêneros\n",
    "print(df_games['genre'].sort_values().unique())"
   ]
  },
  {
   "cell_type": "code",
   "execution_count": 15,
   "metadata": {},
   "outputs": [
    {
     "name": "stdout",
     "output_type": "stream",
     "text": [
      "5719    role-playing\n",
      "Name: genre, dtype: category\n",
      "Categories (12, object): ['action', 'adventure', 'fighting', 'misc', ..., 'shooter', 'simulation', 'sports', 'strategy']\n"
     ]
    }
   ],
   "source": [
    "# Convertendo os dados para tipo categorical\n",
    "df_games['genre'] = df_games['genre'].astype('category')\n",
    "\n",
    "print(df_games['genre'].sample(1))"
   ]
  },
  {
   "cell_type": "markdown",
   "metadata": {},
   "source": [
    "### Coluna critic_score ###\n",
    "\n",
    "Apresenta linhas com dados ausentes (8.578)"
   ]
  },
  {
   "cell_type": "code",
   "execution_count": 16,
   "metadata": {},
   "outputs": [
    {
     "name": "stdout",
     "output_type": "stream",
     "text": [
      "                                         name platform  year_of_release  \\\n",
      "13722        shukufuku no campanella portable      psp           2010.0   \n",
      "6863                      densetsu no stafi 3      gba           2004.0   \n",
      "4928   disney princess: enchanting storybooks      wii           2011.0   \n",
      "\n",
      "           genre  na_sales  eu_sales  jp_sales  other_sales  critic_score  \\\n",
      "13722  adventure      0.00       0.0      0.04         0.00           NaN   \n",
      "6863    platform      0.00       0.0      0.23         0.01           NaN   \n",
      "4928        misc      0.25       0.1      0.00         0.03           NaN   \n",
      "\n",
      "      user_score rating  \n",
      "13722        NaN    NaN  \n",
      "6863         NaN    NaN  \n",
      "4928         tbd      E  \n"
     ]
    }
   ],
   "source": [
    "print(df_games[df_games['critic_score'].isna()].sample(3))"
   ]
  },
  {
   "cell_type": "markdown",
   "metadata": {},
   "source": [
    "**Temos muitas informações úteis nas linhas com dados ausentes da coluna 'critic_score'. Portanto, não podemos excluir as linhas e devemos tratá-las de outra forma.**\n",
    "\n",
    "**Por tratar-se de dados referentes às notas de avaliações dadas pelos críticos, não seria correto preencher estas informações com média ou mediana e nem por qualquer valor que pudesse gerar uma informação falsa sobre o jogo em questão. Desta forma, não alteraremos os dados ausentes e os deixaremos como NaN.**"
   ]
  },
  {
   "cell_type": "markdown",
   "metadata": {},
   "source": [
    "### Coluna user_score ### \n",
    "\n",
    "Apresenta dados ausentes (6.701) e os dados são do tipo object, quando deveriam ser Float;\n"
   ]
  },
  {
   "cell_type": "code",
   "execution_count": 17,
   "metadata": {},
   "outputs": [
    {
     "name": "stdout",
     "output_type": "stream",
     "text": [
      "                                       name platform  year_of_release   genre  \\\n",
      "11279  tokimeki memorial: taisen pazurudama      sat           1996.0  puzzle   \n",
      "1842             nba jam tournament edition      gen           1994.0  sports   \n",
      "4789                      nba shootout 2000       ps           1999.0  sports   \n",
      "\n",
      "       na_sales  eu_sales  jp_sales  other_sales  critic_score user_score  \\\n",
      "11279      0.00      0.00      0.08         0.00           NaN        NaN   \n",
      "1842       0.95      0.14      0.00         0.03           NaN        NaN   \n",
      "4789       0.22      0.15      0.00         0.03           NaN        NaN   \n",
      "\n",
      "      rating  \n",
      "11279    NaN  \n",
      "1842     NaN  \n",
      "4789     NaN  \n"
     ]
    }
   ],
   "source": [
    "print(df_games[df_games['user_score'].isna()].sample(3))"
   ]
  },
  {
   "cell_type": "markdown",
   "metadata": {},
   "source": [
    "**Novamente, temos muitas informações úteis nas linhas com dados ausentes da coluna 'user_score'. Portanto, não podemos excluir as linhas.**\n",
    "\n",
    "**Por se tratarem de dados referente a notas de avaliações, não é possível preenchê-los com dados de média ou mediana, pois teríamos dados com informações equivocadas sobre os jogos. Desta forma, não alteraremos os dados ausentes e os deixaremos como NaN.**"
   ]
  },
  {
   "cell_type": "markdown",
   "metadata": {},
   "source": [
    "**Ao tentar converter o tipo de dados para float, recebemos um Erro como resposta devido algumas linhas estarem preenchidas com valores de string. Desta forma, iremos verificar os valores univocos para entender melhor o que pode ser.**"
   ]
  },
  {
   "cell_type": "code",
   "execution_count": 18,
   "metadata": {},
   "outputs": [
    {
     "name": "stdout",
     "output_type": "stream",
     "text": [
      "['8' nan '8.3' '8.5' '6.6' '8.4' '8.6' '7.7' '6.3' '7.4' '8.2' '9' '7.9'\n",
      " '8.1' '8.7' '7.1' '3.4' '5.3' '4.8' '3.2' '8.9' '6.4' '7.8' '7.5' '2.6'\n",
      " '7.2' '9.2' '7' '7.3' '4.3' '7.6' '5.7' '5' '9.1' '6.5' 'tbd' '8.8' '6.9'\n",
      " '9.4' '6.8' '6.1' '6.7' '5.4' '4' '4.9' '4.5' '9.3' '6.2' '4.2' '6' '3.7'\n",
      " '4.1' '5.8' '5.6' '5.5' '4.4' '4.6' '5.9' '3.9' '3.1' '2.9' '5.2' '3.3'\n",
      " '4.7' '5.1' '3.5' '2.5' '1.9' '3' '2.7' '2.2' '2' '9.5' '2.1' '3.6' '2.8'\n",
      " '1.8' '3.8' '0' '1.6' '9.6' '2.4' '1.7' '1.1' '0.3' '1.5' '0.7' '1.2'\n",
      " '2.3' '0.5' '1.3' '0.2' '0.6' '1.4' '0.9' '1' '9.7']\n"
     ]
    }
   ],
   "source": [
    "print(df_games['user_score'].unique())"
   ]
  },
  {
   "cell_type": "markdown",
   "metadata": {},
   "source": [
    "**Encontramos a string 'tbd', que significa \"to be defined\" (a ser definido), ou seja, esses jogos de fato não tiveram uma nota de usuário atribuída. Portanto, este dado não tem significado nenhum para nós, porém, as demais informações referentes a estas linhas podem ser úteis. Desta forma, devemos tratá-los da mesma forma que fizemos com os valores ausentes.**"
   ]
  },
  {
   "cell_type": "code",
   "execution_count": 19,
   "metadata": {},
   "outputs": [
    {
     "name": "stdout",
     "output_type": "stream",
     "text": [
      "['8' nan '8.3' '8.5' '6.6' '8.4' '8.6' '7.7' '6.3' '7.4' '8.2' '9' '7.9'\n",
      " '8.1' '8.7' '7.1' '3.4' '5.3' '4.8' '3.2' '8.9' '6.4' '7.8' '7.5' '2.6'\n",
      " '7.2' '9.2' '7' '7.3' '4.3' '7.6' '5.7' '5' '9.1' '6.5' 'NaN' '8.8' '6.9'\n",
      " '9.4' '6.8' '6.1' '6.7' '5.4' '4' '4.9' '4.5' '9.3' '6.2' '4.2' '6' '3.7'\n",
      " '4.1' '5.8' '5.6' '5.5' '4.4' '4.6' '5.9' '3.9' '3.1' '2.9' '5.2' '3.3'\n",
      " '4.7' '5.1' '3.5' '2.5' '1.9' '3' '2.7' '2.2' '2' '9.5' '2.1' '3.6' '2.8'\n",
      " '1.8' '3.8' '0' '1.6' '9.6' '2.4' '1.7' '1.1' '0.3' '1.5' '0.7' '1.2'\n",
      " '2.3' '0.5' '1.3' '0.2' '0.6' '1.4' '0.9' '1' '9.7']\n"
     ]
    }
   ],
   "source": [
    "# Substituindo as strings por NaN com o método replace()\n",
    "df_games['user_score'] = df_games['user_score'].replace('tbd', 'NaN')\n",
    "\n",
    "# Checando se a string 'tbd' foi substituída\n",
    "print(df_games['user_score'].unique())"
   ]
  },
  {
   "cell_type": "code",
   "execution_count": 20,
   "metadata": {},
   "outputs": [
    {
     "name": "stdout",
     "output_type": "stream",
     "text": [
      "12896    6.0\n",
      "15551    NaN\n",
      "1009     NaN\n",
      "Name: user_score, dtype: float64\n"
     ]
    }
   ],
   "source": [
    "# Convertendo os dados para tipo float com o método astype()\n",
    "df_games['user_score'] = df_games['user_score'].astype('float')\n",
    "\n",
    "print(df_games['user_score'].sample(3))"
   ]
  },
  {
   "cell_type": "markdown",
   "metadata": {},
   "source": [
    "### Coluna rating ###\n",
    "\n",
    "Apresenta valores ausentes. Convém converter para o tipo 'categorical."
   ]
  },
  {
   "cell_type": "code",
   "execution_count": 21,
   "metadata": {},
   "outputs": [
    {
     "name": "stdout",
     "output_type": "stream",
     "text": [
      "6764\n"
     ]
    }
   ],
   "source": [
    "# Verificando quantidade de valores ausentes\n",
    "print(df_games['rating'].isna().sum())"
   ]
  },
  {
   "cell_type": "code",
   "execution_count": 22,
   "metadata": {},
   "outputs": [
    {
     "name": "stdout",
     "output_type": "stream",
     "text": [
      "                                     name platform  year_of_release  \\\n",
      "13587                       chicken shoot      gba           2005.0   \n",
      "8346   michael jackson: the experience 3d      3ds           2011.0   \n",
      "2202                             mlb 2000       ps           1999.0   \n",
      "9678     kilari: na-san, mon meilleur ami       ds           2006.0   \n",
      "13711           b.l.u.e.: legend of water       ps              NaN   \n",
      "\n",
      "            genre  na_sales  eu_sales  jp_sales  other_sales  critic_score  \\\n",
      "13587      action      0.03      0.01      0.00         0.00           NaN   \n",
      "8346         misc      0.13      0.03      0.00         0.01           NaN   \n",
      "2202       sports      0.52      0.35      0.00         0.06           NaN   \n",
      "9678   simulation      0.00      0.00      0.12         0.00           NaN   \n",
      "13711   adventure      0.00      0.00      0.04         0.00           NaN   \n",
      "\n",
      "       user_score rating  \n",
      "13587         NaN    NaN  \n",
      "8346          NaN    NaN  \n",
      "2202          NaN    NaN  \n",
      "9678          NaN    NaN  \n",
      "13711         NaN    NaN  \n"
     ]
    }
   ],
   "source": [
    "# Imprimindo amostras para checar demais linhas\n",
    "print(df_games[df_games['rating'].isna()].sample(5))"
   ]
  },
  {
   "cell_type": "markdown",
   "metadata": {},
   "source": [
    "**Devido termos uma quantidade grande de valores ausentes e termos informações relevantes nas outras colunas, não podemos excluir as linhas com valores ausentes. Por se tratar de uma coluna categórica, iremos substituir por uma string 'unknown' (desconhecido) e formar uma nova categoria com essa string, assim ela pode ser filtrada posteriormente.**"
   ]
  },
  {
   "cell_type": "code",
   "execution_count": 23,
   "metadata": {},
   "outputs": [
    {
     "name": "stdout",
     "output_type": "stream",
     "text": [
      "0\n"
     ]
    }
   ],
   "source": [
    "# Preenchendo valores ausentes com a string 'unknown' utilizando método fillna()\n",
    "df_games['rating'] = df_games['rating'].fillna('unknown')\n",
    "\n",
    "# checando se valores ausentes foram preenchidos\n",
    "print(df_games['rating'].isna().sum())"
   ]
  },
  {
   "cell_type": "code",
   "execution_count": 24,
   "metadata": {},
   "outputs": [
    {
     "name": "stdout",
     "output_type": "stream",
     "text": [
      "344    E10+\n",
      "Name: rating, dtype: category\n",
      "Categories (9, object): ['AO', 'E', 'E10+', 'EC', ..., 'M', 'RP', 'T', 'unknown']\n"
     ]
    }
   ],
   "source": [
    "# Convertendo tipo de dados para categorical\n",
    "df_games['rating'] = df_games['rating'].astype('category')\n",
    "\n",
    "print(df_games['rating'].sample(1))"
   ]
  },
  {
   "cell_type": "markdown",
   "metadata": {},
   "source": [
    "### Checando DataFrame após pré-processamento ###"
   ]
  },
  {
   "cell_type": "code",
   "execution_count": 25,
   "metadata": {},
   "outputs": [
    {
     "name": "stdout",
     "output_type": "stream",
     "text": [
      "                                            name platform  year_of_release  \\\n",
      "12269          prince of persia: the fallen king       ds           2008.0   \n",
      "6900   harry potter and the order of the phoenix      ps3           2007.0   \n",
      "10824                                  the voice     wiiu           2014.0   \n",
      "7324             magician's quest: town of magic      3ds           2012.0   \n",
      "13867                                    clannad      psp           2008.0   \n",
      "\n",
      "            genre  na_sales  eu_sales  jp_sales  other_sales  critic_score  \\\n",
      "12269      action      0.06      0.00      0.00         0.00          64.0   \n",
      "6900       action      0.18      0.03      0.00         0.03          67.0   \n",
      "10824      action      0.08      0.00      0.00         0.01           NaN   \n",
      "7324   simulation      0.00      0.00      0.21         0.00           NaN   \n",
      "13867   adventure      0.00      0.00      0.04         0.00           NaN   \n",
      "\n",
      "       user_score   rating  \n",
      "12269         6.0        E  \n",
      "6900          6.6     E10+  \n",
      "10824         NaN  unknown  \n",
      "7324          NaN  unknown  \n",
      "13867         NaN  unknown  \n"
     ]
    }
   ],
   "source": [
    "print(df_games.sample(5))"
   ]
  },
  {
   "cell_type": "code",
   "execution_count": 26,
   "metadata": {},
   "outputs": [
    {
     "name": "stdout",
     "output_type": "stream",
     "text": [
      "<class 'pandas.core.frame.DataFrame'>\n",
      "Int64Index: 16713 entries, 0 to 16714\n",
      "Data columns (total 11 columns):\n",
      " #   Column           Non-Null Count  Dtype   \n",
      "---  ------           --------------  -----   \n",
      " 0   name             16713 non-null  object  \n",
      " 1   platform         16713 non-null  category\n",
      " 2   year_of_release  16444 non-null  float64 \n",
      " 3   genre            16713 non-null  category\n",
      " 4   na_sales         16713 non-null  float64 \n",
      " 5   eu_sales         16713 non-null  float64 \n",
      " 6   jp_sales         16713 non-null  float64 \n",
      " 7   other_sales      16713 non-null  float64 \n",
      " 8   critic_score     8137 non-null   float64 \n",
      " 9   user_score       7590 non-null   float64 \n",
      " 10  rating           16713 non-null  category\n",
      "dtypes: category(3), float64(7), object(1)\n",
      "memory usage: 1.2+ MB\n"
     ]
    }
   ],
   "source": [
    "df_games.info()"
   ]
  },
  {
   "cell_type": "markdown",
   "metadata": {},
   "source": [
    "**Após pré-processamento, podemos observar acima que:**\n",
    "\n",
    "* Os nomes das colunas estão todos em snake_case;\n",
    "* Temos 16713 linhas, pois 2 foram eliminadas devido não ter informação do nome do jogo;\n",
    "* Algumas colunas seguem com dados ausentes, porém já avaliamos os casos e não faz sentido preenchê-los;\n",
    "* Todas as colunas encontram-se com os tipos de dados adequados."
   ]
  },
  {
   "cell_type": "markdown",
   "metadata": {},
   "source": [
    "### Enriquecimento dos dados ###\n",
    "\n",
    "**Para futuras avaliações, é interessante enriquecer os dados. Iremos nesta etapa calcular o total de vendas, somando as vendas de todas as regiões para cada jogo e colocando esses valores em uma nova coluna**."
   ]
  },
  {
   "cell_type": "code",
   "execution_count": 27,
   "metadata": {},
   "outputs": [
    {
     "name": "stdout",
     "output_type": "stream",
     "text": [
      "                                                    name platform  \\\n",
      "12219                            reader rabbit 1st grade      wii   \n",
      "1692   spongebob squarepants: revenge of the flying d...      gba   \n",
      "11073                     super robot taisen mx portable      psp   \n",
      "6606                                     galactic attack      sat   \n",
      "1105                      lego batman 2: dc super heroes     x360   \n",
      "\n",
      "       year_of_release     genre  na_sales  eu_sales  jp_sales  other_sales  \\\n",
      "12219           2010.0      misc      0.06      0.00      0.00         0.00   \n",
      "1692            2002.0  platform      0.92      0.23      0.00         0.04   \n",
      "11073           2005.0  strategy      0.00      0.00      0.09         0.00   \n",
      "6606            1994.0   shooter      0.00      0.00      0.25         0.00   \n",
      "1105            2012.0    action      0.90      0.61      0.00         0.15   \n",
      "\n",
      "       critic_score  user_score   rating  total_sales  \n",
      "12219           NaN         NaN        E         0.06  \n",
      "1692           71.0         7.7        E         1.19  \n",
      "11073           NaN         NaN  unknown         0.09  \n",
      "6606            NaN         NaN  unknown         0.25  \n",
      "1105           79.0         7.2     E10+         1.66  \n"
     ]
    }
   ],
   "source": [
    "# Criando a coluna 'total_sales' com a soma das vendas de todas as regiões\n",
    "df_games['total_sales'] = df_games['na_sales'] + df_games['eu_sales'] + df_games['jp_sales'] + df_games['other_sales']\n",
    "\n",
    "print(df_games.sample(5))"
   ]
  },
  {
   "cell_type": "markdown",
   "metadata": {},
   "source": [
    "## Análise dos dados ##\n",
    "\n",
    "**Agora estamos com os dados \"limpos\" e vamos começar nossas análises.**\n",
    "\n",
    "**Nesta fase iremos realizar as seguintes etapas:**\n",
    "\n",
    "* Verificaremos quantos jogos foram lançados em anos diferentes e se os dados de cada período são significativos;  \n",
    "\n",
    "\n",
    "* Como as vendas variaram de plataforma para plataforma. Construiremos uma distribuição para as plataformas com as maiores vendas totais com base em dados para cada ano, buscando encontrar padrões no comportamento do mercado. Encontraremos as plataformas que costumavam ser populares, mas agora não têm vendas e quanto tempo leva para as novas plataformas aparecerem e as antigas desaparecerem;  \n",
    "\n",
    "\n",
    "* Analisando as respostas das avaliações realizadas anteriormente, determinaremos para qual período devemos pegar dados para que possamos construir um modelo para o próximo ano (2017);  \n",
    "\n",
    "\n",
    "* Quais plataformas estão liderando em vendas? Quais estão crescendo ou diminuindo? Selecionaremos plataformas potencialmente lucrativas;  \n",
    "\n",
    "\n",
    "* Construiremos um diagrama de caixa para as vendas globais de todos os jogos, divididos por plataforma. Verificaremos se as diferenças nas vendas são significativas e as vendas médias em várias plataformas;  \n",
    "\n",
    "\n",
    "* Verificaremos como as avaliações de usuários e profissionais afetam as vendas de uma plataforma popular. Construiremos um gráfico de dispersão e calcularemos a correlação entre revisões (de críticos e usuários) e vendas;  \n",
    "\n",
    "\n",
    "* Após tirarmos algumas conclusões, compararemos as vendas dos mesmos jogos em outras plataformas;  \n",
    "\n",
    "\n",
    "* Avaliaremos a distribuição geral de jogos por gênero e veremos o que podemos concluir sobre os gêneros mais lucrativos.  "
   ]
  },
  {
   "cell_type": "markdown",
   "metadata": {},
   "source": [
    "### Quantos jogos foram lançados em anos diferentes: ###"
   ]
  },
  {
   "cell_type": "code",
   "execution_count": 28,
   "metadata": {},
   "outputs": [
    {
     "name": "stdout",
     "output_type": "stream",
     "text": [
      "year_of_release\n",
      "1980.0       9\n",
      "1981.0      46\n",
      "1982.0      36\n",
      "1983.0      17\n",
      "1984.0      14\n",
      "1985.0      14\n",
      "1986.0      21\n",
      "1987.0      16\n",
      "1988.0      15\n",
      "1989.0      17\n",
      "1990.0      16\n",
      "1991.0      41\n",
      "1992.0      43\n",
      "1993.0      60\n",
      "1994.0     121\n",
      "1995.0     219\n",
      "1996.0     263\n",
      "1997.0     289\n",
      "1998.0     379\n",
      "1999.0     338\n",
      "2000.0     350\n",
      "2001.0     482\n",
      "2002.0     829\n",
      "2003.0     775\n",
      "2004.0     762\n",
      "2005.0     939\n",
      "2006.0    1006\n",
      "2007.0    1197\n",
      "2008.0    1427\n",
      "2009.0    1426\n",
      "2010.0    1255\n",
      "2011.0    1136\n",
      "2012.0     653\n",
      "2013.0     544\n",
      "2014.0     581\n",
      "2015.0     606\n",
      "2016.0     502\n",
      "Name: name, dtype: int64\n"
     ]
    }
   ],
   "source": [
    "# Filtrando o DataFrame para obter um novo DataFrame somente com os valores em que temos a data de lançamento do jogo\n",
    "games_by_year_clean = df_games[~df_games['year_of_release'].isna()]\n",
    "\n",
    "# Agrupando por data de lançamento e contando quantos jogos lançados por ano\n",
    "games_by_year = games_by_year_clean.groupby('year_of_release')['name'].count()\n",
    "\n",
    "print(games_by_year)"
   ]
  },
  {
   "cell_type": "markdown",
   "metadata": {},
   "source": [
    "**Vamos criar um gráfico de linhas para facilitar a visualização dos dados ao longo dos anos**"
   ]
  },
  {
   "cell_type": "code",
   "execution_count": 29,
   "metadata": {},
   "outputs": [
    {
     "data": {
      "image/png": "[encoded data removed]",
      "text/plain": [
       "<Figure size 1080x360 with 1 Axes>"
      ]
     },
     "metadata": {
      "needs_background": "light"
     },
     "output_type": "display_data"
    }
   ],
   "source": [
    "games_by_year.plot(kind= 'bar',\n",
    "                   title= 'JOGOS LANÇADOS AO LONGO DO TEMPO',\n",
    "                   xlabel= 'ANO DE LANÇAMENTO',\n",
    "                   ylabel= 'Nº DE JOGOS',\n",
    "                   figsize= [15, 5])\n",
    "\n",
    "plt.show()"
   ]
  },
  {
   "cell_type": "markdown",
   "metadata": {},
   "source": [
    "**Podemos observar no gráfico que:**\n",
    "\n",
    "\n",
    "* A década de 1980 teve uma estabilidade nos lançamentos de jogos, sendo esse número muito abaixo das décadas seguintes;\n",
    "\n",
    "\n",
    "* Na década de 1990, observamos um aumento significativo do número de jogos lançados, principalemnte a partir de 1994;\n",
    "\n",
    "\n",
    "* A partir de 2002 podemos observar um grande 'boom' de lançamentos, que durou até o ano de 2011;\n",
    "\n",
    "\n",
    "* Em 2012 iniciou-se uma queda na quantidade de lançamentos de novos jogos e essa realidade tem se mantido estável até o ano de 2016, com pequenas variações.\n"
   ]
  },
  {
   "cell_type": "markdown",
   "metadata": {},
   "source": [
    "### Como as vendas variaram de plataforma para plataforma ao longo dos anos: ###"
   ]
  },
  {
   "cell_type": "markdown",
   "metadata": {},
   "source": [
    "Construiremos uma distribuição para as plataformas com as maiores vendas totais com base em dados para cada ano. \n",
    "Encontraremos as plataformas que costumavam ser populares, mas agora não têm vendas e quanto tempo leva para as novas plataformas aparecerem e as antigas desaparecerem;"
   ]
  },
  {
   "cell_type": "code",
   "execution_count": 30,
   "metadata": {},
   "outputs": [
    {
     "name": "stdout",
     "output_type": "stream",
     "text": [
      "  platform  total_sales\n",
      "0      ps2      1255.77\n",
      "1     x360       971.42\n",
      "2      ps3       939.65\n",
      "3      wii       907.51\n",
      "4       ds       806.12\n"
     ]
    }
   ],
   "source": [
    "# Obtendo a soma das vendas totais de cada plataforma ao longo dos anos e ordenando da maior para menor\n",
    "best_platforms = df_games.groupby('platform')['total_sales'].sum().sort_values(ascending = False)\n",
    "best_platforms = best_platforms.reset_index()\n",
    "\n",
    "# Imprimindo as 5 plataformas com mais vendas totais\n",
    "print(best_platforms.head(5))"
   ]
  },
  {
   "cell_type": "markdown",
   "metadata": {},
   "source": [
    "**As plataformas que somaram mais vendas ao longo dos anos foram: ps2, x360, ps3, wii e ds**"
   ]
  },
  {
   "cell_type": "code",
   "execution_count": 31,
   "metadata": {},
   "outputs": [
    {
     "name": "stdout",
     "output_type": "stream",
     "text": [
      "                 total_sales\n",
      "year_of_release             \n",
      "2000.0                 39.17\n",
      "2001.0                166.43\n",
      "2002.0                205.38\n",
      "2003.0                184.31\n",
      "2004.0                211.81\n",
      "2005.0                160.66\n",
      "2006.0                103.42\n",
      "2007.0                 75.99\n",
      "2008.0                 53.90\n",
      "2009.0                 26.40\n",
      "2010.0                  5.64\n",
      "2011.0                  0.45\n"
     ]
    }
   ],
   "source": [
    "# Criando uma função que filtra por plataforma, depois agrupa por ano e retorna a soma das vendas totais\n",
    "def platform_sales(df, platform):\n",
    "    new_df = df[df['platform'] == platform]\n",
    "    new_df = new_df.groupby('year_of_release')['total_sales'].sum()\n",
    "    return new_df \n",
    "\n",
    "#Chamando a função para cada uma das plataformas do top 5 e definindo a coluna 'year_of_release' como índice\n",
    "sales_ps2 = platform_sales(games_by_year_clean, 'ps2').reset_index().set_index('year_of_release')\n",
    "sales_x360 = platform_sales(games_by_year_clean, 'x360').reset_index().set_index('year_of_release')\n",
    "sales_ps3 = platform_sales(games_by_year_clean, 'ps3').reset_index().set_index('year_of_release')\n",
    "sales_wii = platform_sales(games_by_year_clean, 'wii').reset_index().set_index('year_of_release')\n",
    "sales_ds = platform_sales(games_by_year_clean, 'ds').reset_index().set_index('year_of_release')\n",
    "\n",
    "# imprimindo uma plataforma como exemplo para checar o resultado\n",
    "print(sales_ps2)"
   ]
  },
  {
   "cell_type": "code",
   "execution_count": 32,
   "metadata": {},
   "outputs": [
    {
     "name": "stdout",
     "output_type": "stream",
     "text": [
      "                sales_ps2 sales_x360 sales_ps3 sales_wii sales_ds\n",
      "year_of_release                                                  \n",
      "1985.0                NaN        NaN       NaN       NaN     0.02\n",
      "2000.0              39.17        NaN       NaN       NaN      NaN\n",
      "2001.0             166.43        NaN       NaN       NaN      NaN\n",
      "2002.0             205.38        NaN       NaN       NaN      NaN\n",
      "2003.0             184.31        NaN       NaN       NaN      NaN\n",
      "2004.0             211.81        NaN       NaN       NaN    17.27\n",
      "2005.0             160.66       8.25       NaN       NaN   130.14\n",
      "2006.0             103.42      51.62     20.96    137.15   119.81\n",
      "2007.0              75.99      95.41     73.19    152.77   146.94\n",
      "2008.0              53.90     135.26    118.52    171.32   145.31\n",
      "2009.0              26.40     120.29    130.93    206.97   119.54\n",
      "2010.0               5.64     170.03    142.17    127.95    85.02\n",
      "2011.0               0.45     143.84    156.78     59.65    26.18\n",
      "2012.0                NaN      99.74    107.36     21.71    11.01\n",
      "2013.0                NaN      88.58    113.25      8.59     1.54\n",
      "2014.0                NaN      34.74     47.76      3.75      NaN\n",
      "2015.0                NaN      11.96     16.82      1.14      NaN\n",
      "2016.0                NaN       1.52      3.60      0.18      NaN\n"
     ]
    }
   ],
   "source": [
    "# Criando uma função que mescle (usando merge) 5 DataFrames ao mesmo tempo\n",
    "def merge_5_dfs(df1, df2, df3, df4, df5):\n",
    "    df_merged_1 = df1.merge(df2, on= 'year_of_release', how= 'outer')\n",
    "    df_merged_2 = df_merged_1.merge(df3, on= 'year_of_release', how= 'outer')\n",
    "    df_merged_3 = df_merged_2.merge(df4, on= 'year_of_release', how= 'outer')\n",
    "    df_merged_4 = df_merged_3.merge(df5, on= 'year_of_release', how= 'outer')\n",
    "    \n",
    "    return df_merged_4\n",
    "\n",
    "# Chamando a função para mesclar os DataFrames das vendas das plataformas\n",
    "df_top_5 = merge_5_dfs(sales_ps2, sales_x360, sales_ps3, sales_wii, sales_ds)\n",
    "\n",
    "# Alterando os nomes das colunas no DataFrame mesclado\n",
    "col_merged_names = ['sales_ps2', 'sales_x360', 'sales_ps3', 'sales_wii', 'sales_ds']\n",
    "df_top_5.columns = [col_merged_names]\n",
    "\n",
    "# Ordenando os índices para que os anos fiquem em ordem crescente\n",
    "df_top_5 = df_top_5.sort_index()\n",
    "\n",
    "print(df_top_5)"
   ]
  },
  {
   "cell_type": "code",
   "execution_count": 33,
   "metadata": {},
   "outputs": [
    {
     "data": {
      "image/png": "[encoded data removed]",
      "text/plain": [
       "<Figure size 1152x360 with 1 Axes>"
      ]
     },
     "metadata": {
      "needs_background": "light"
     },
     "output_type": "display_data"
    }
   ],
   "source": [
    "# Plotando um gráfico de barras para visualização dos dados de vendas das plataformas top-5 ao longo dos anos\n",
    "df_top_5.plot(kind = 'bar',\n",
    "              figsize = [16, 5],\n",
    "              width = 0.8,\n",
    "              title = 'DESEMPENHO DAS PLATAFORMAS AO LONGO DO TEMPO',\n",
    "              xlabel = 'ANO',\n",
    "              ylabel = 'VENDAS TOTAIS\\n(milhões de USD)')\n",
    "\n",
    "plt.legend(['ps2', 'x360', 'ps3', 'wii', 'ds'], fontsize = 15)\n",
    "\n",
    "plt.show()"
   ]
  },
  {
   "cell_type": "markdown",
   "metadata": {},
   "source": [
    "**Analisando o gráfico acima podemos observar que:**\n",
    "\n",
    "* Lançado no ano 2000, o ps2 reinou no mercado até o ano de 2005 (ano de lançamento dos consoles nintendo wii e xbox 360) e, a  partir de 2006, (ano de lançamento do nintendo ds e ps3) começou a enfrentar o crescimento gigantesco de concorrentes. A partir daí, as vendas foram caindo ano a ano, vindo a desaparecer completamente no ano de 2011, **durou 11 anos no mercado**;  \n",
    "  \n",
    "  \n",
    "*  O Nintendo wii começou a dominar o mercado assim que surgiu em 2006 e liderou até 2009. No ano de 2010 começou a ver suas vendas caírem drasticamente até desaparecer do mercado no ano de 2015, **durou 9 anos no mercado**;  \n",
    "  \n",
    "  \n",
    "* O Nintendo ds surgiu em 2005 ocupando uma fatia ainda bem reduzida do mercado neste ano. Porém, em 2006 teve um garnde crescimento e brigou pela liderança com o wii até 2009, quando começou a ter suas vendas reduzidas, vindo a desaparecer completamente no ano de 2013, **durou 9 anos no mercado**;  \n",
    "\n",
    "\n",
    "* O xbox 360 começou a aparecer no ano de 2005 e manteve seu crescimento até o ano de 2010. Depois perdeu força e foi tendo suas vendas reduzidas ano após ano, vindo a desaparecer no ano de 2016, **durou 11 anos no mercado**;  \n",
    "\n",
    "\n",
    "* O ps3 lançado para substituir o ps2, suurgiu no mercado em 2006 e começou seu crescimento gradual, até o ano de 2011. A partir de 2012 teve uma redução das vendas e assim foi até praticamente desaparecer no ano de 2016, **durou 11 anos no mercado.**\n",
    "\n",
    "\n",
    "**É possível observar que existe um padrão no mercado, sendo que as novas plataformas começam a aparecer no mercado já no ano de lançamento, tendo um crescimento muito grande a partir de segundo ano, o que perdura por cerca de 4 a 5 anos, quando começam a ter uma queda nas vendas até sumirem do mercado.**"
   ]
  },
  {
   "cell_type": "markdown",
   "metadata": {},
   "source": [
    "### Projetando o mercado para o próximo ano: ###\n",
    "\n",
    "**Utilizando as conclusões realizadas anteriormente, focaremos nos dados dos últimos 5 anos para que possamos construir um modelo para 2017;**\n",
    "\n",
    "* Verificaremos quais plataformas estão liderando em vendas;\n",
    "* Quais estão crescendo ou diminuindo suas vendas;\n",
    "* Selecionaremos plataformas potencialmente lucrativas."
   ]
  },
  {
   "cell_type": "code",
   "execution_count": 34,
   "metadata": {
    "scrolled": false
   },
   "outputs": [
    {
     "name": "stdout",
     "output_type": "stream",
     "text": [
      "Verificaremos os dados de 2012.0 até 2016.0\n"
     ]
    }
   ],
   "source": [
    "# Filtrando o DataFrame para obter dados a partir da data selecionada\n",
    "df_games_recently = df_games[df_games['year_of_release'] > 2011]\n",
    "\n",
    "year_min = df_games_recently['year_of_release'].min()\n",
    "year_max = df_games_recently['year_of_release'].max()\n",
    "\n",
    "print(f'Verificaremos os dados de {year_min} até {year_max}')"
   ]
  },
  {
   "cell_type": "code",
   "execution_count": 35,
   "metadata": {},
   "outputs": [
    {
     "name": "stdout",
     "output_type": "stream",
     "text": [
      "year_of_release\n",
      "2012.0    355.84\n",
      "2013.0    361.24\n",
      "2014.0    331.53\n",
      "2015.0    267.98\n",
      "2016.0    129.94\n",
      "Name: total_sales, dtype: float64\n"
     ]
    }
   ],
   "source": [
    "# Verificando o total de vendas do mercado como um todo ao longo dos últimos anos\n",
    "print(df_games_recently.groupby('year_of_release')['total_sales'].sum())"
   ]
  },
  {
   "cell_type": "markdown",
   "metadata": {},
   "source": [
    "**É possível observar que o mercado vem sofrendo com uma queda de vendas nos últimos anos, sendo que nos últimos 2 anos essa queda foi acentuada.**"
   ]
  },
  {
   "cell_type": "code",
   "execution_count": 36,
   "metadata": {},
   "outputs": [
    {
     "name": "stdout",
     "output_type": "stream",
     "text": [
      "                platform  total_sales\n",
      "year_of_release                      \n",
      "2016.0              x360         1.52\n",
      "2012.0               ps3       107.36\n",
      "2015.0              xone        60.14\n",
      "2015.0              wiiu        16.35\n",
      "2016.0               ps3         3.60\n"
     ]
    }
   ],
   "source": [
    "# Agrupando os dados filtrados por ano e plataforma, e retornando o valor da soma das vendas\n",
    "df_platforms_recently = df_games_recently.groupby(['year_of_release', 'platform'])['total_sales'].sum()\n",
    "df_platforms_recently = df_platforms_recently.reset_index()\n",
    "\n",
    "# filtrando somente os dados em que as vendas não estão zeradas\n",
    "useful_platforms_recently = df_platforms_recently[df_platforms_recently['total_sales'] > 0]\n",
    "useful_platforms_recently = useful_platforms_recently.set_index('year_of_release')\n",
    "\n",
    "print(useful_platforms_recently.sample(5))"
   ]
  },
  {
   "cell_type": "code",
   "execution_count": 37,
   "metadata": {},
   "outputs": [
    {
     "name": "stdout",
     "output_type": "stream",
     "text": [
      "['3ds', 'ds', 'pc', 'ps3', 'ps4', 'psp', 'psv', 'wii', 'wiiu', 'x360', 'xone']\n"
     ]
    }
   ],
   "source": [
    "# Criando uma lista com as plataformas que iremos avaliar\n",
    "useful_platforms_list = useful_platforms_recently['platform'].sort_values().unique().tolist()\n",
    "\n",
    "print(useful_platforms_list)"
   ]
  },
  {
   "cell_type": "code",
   "execution_count": 38,
   "metadata": {},
   "outputs": [
    {
     "name": "stdout",
     "output_type": "stream",
     "text": [
      "['2600', '3do', 'dc', 'gb', 'gba', 'gc', 'gen', 'gg', 'n64', 'nes', 'ng', 'pcfx', 'ps', 'ps2', 'sat', 'scd', 'snes', 'tg16', 'ws', 'xb']\n"
     ]
    }
   ],
   "source": [
    "# Criando uma lista com as plataformas inúteis para nós para utilizar posteriormente\n",
    "ununseful_platforms = df_games[~df_games['platform'].isin(useful_platforms_list)]\n",
    "ununseful_platforms = ununseful_platforms['platform'].sort_values().unique().tolist()\n",
    "\n",
    "print(ununseful_platforms)"
   ]
  },
  {
   "cell_type": "code",
   "execution_count": 39,
   "metadata": {
    "scrolled": false
   },
   "outputs": [
    {
     "name": "stdout",
     "output_type": "stream",
     "text": [
      "platform           3ds     ds     pc     ps3     ps4   psp    psv    wii  \\\n",
      "year_of_release                                                            \n",
      "2012.0           51.36  11.01  23.22  107.36    0.00  7.69  16.19  21.71   \n",
      "2013.0           56.57   1.54  12.38  113.25   25.99  3.14  10.59   8.59   \n",
      "2014.0           43.76   0.00  13.28   47.76  100.00  0.24  11.90   3.75   \n",
      "2015.0           27.78   0.00   8.52   16.82  118.90  0.12   6.25   1.14   \n",
      "2016.0           15.14   0.00   5.25    3.60   69.25  0.00   4.25   0.18   \n",
      "\n",
      "platform          wiiu   x360   xone  \n",
      "year_of_release                       \n",
      "2012.0           17.56  99.74   0.00  \n",
      "2013.0           21.65  88.58  18.96  \n",
      "2014.0           22.03  34.74  54.07  \n",
      "2015.0           16.35  11.96  60.14  \n",
      "2016.0            4.60   1.52  26.15  \n"
     ]
    }
   ],
   "source": [
    "# criando uma tabela dinâmica com os dados filtrados a partir de 2012\n",
    "pivot_games_recently = df_games_recently.pivot_table(index= 'year_of_release',\n",
    "                                                     columns= 'platform',\n",
    "                                                     values= 'total_sales',\n",
    "                                                     aggfunc= 'sum'\n",
    "                                                    )\n",
    "\n",
    "# Excluindo as colunas que contém dados sobre as plataformas inúteis para a análise\n",
    "pivot_games_recently = pivot_games_recently.drop(ununseful_platforms, axis = 1)\n",
    "\n",
    "print(pivot_games_recently)"
   ]
  },
  {
   "cell_type": "code",
   "execution_count": 40,
   "metadata": {},
   "outputs": [
    {
     "data": {
      "image/png": "[encoded data removed]",
      "text/plain": [
       "<Figure size 1080x360 with 1 Axes>"
      ]
     },
     "metadata": {
      "needs_background": "light"
     },
     "output_type": "display_data"
    }
   ],
   "source": [
    "# Criando um gráfico de barras para análise dos dados\n",
    "\n",
    "pivot_games_recently.plot(kind = 'bar',\n",
    "                         figsize = [15, 5],\n",
    "                         width = 0.8,\n",
    "                         title = 'DESEMPENHO RECENTE DAS PLATAFORMAS',\n",
    "                         xlabel = 'ANO',\n",
    "                         ylabel = 'VENDAS TOTAIS\\n(milhões de USD)'\n",
    "                         )\n",
    "\n",
    "plt.legend(fontsize = 10, bbox_to_anchor=(1.01, 1), loc= \"upper left\", borderaxespad= 0)\n",
    "plt.show()"
   ]
  },
  {
   "cell_type": "markdown",
   "metadata": {},
   "source": [
    "**Analisando os dados de 2012 a 2016 podemos tirar as seguintes conclusões:**\n",
    "\n",
    "* O mercado de games como um todo vem sofrendo com uma queda de vendas nos últimos anos, sendo que nos últimos 2 anos essa queda foi acentuada;\n",
    "\n",
    "\n",
    "* As plataformas líderes do mercado nos últimos anos são: **PS4, Xone e 3DS**;\n",
    "\n",
    "\n",
    "* As plataformas **PC , PSV e WiiU** nunca foram líderes do mercado, mas são mais estáveis. Elas vem tendo uma queda, porém, ainda devem ocupar uma pequena fatia do mercado no ano de 2017;\n",
    "\n",
    "\n",
    "* As plataformas **PS3 e X360** vem tendo uma queda vertiginosa e tendem a desaparecer do mercado no próximo ano;\n",
    "\n",
    "\n",
    "* As plataformas **DS, PSP, Wii** já desapareceram do mercado neste intervalo de tempo.\n",
    "\n",
    "\n",
    "**Portanto, as plataformas que são potencialmente lucrativas são: PS4, Xone, 3DS, PC , PSV e WiiU.**"
   ]
  },
  {
   "cell_type": "markdown",
   "metadata": {},
   "source": [
    "### Avaliando outros aspectos do mercado ###\n",
    "\n",
    "**Nesta etapa iremos:** \n",
    "\n",
    "**1- Construir um diagrama de caixa para as vendas globais de todos os jogos, divididos por plataforma para verificarmos:**\n",
    "\n",
    "* Se as diferenças nas vendas são significativas;\n",
    "* As vendas médias em várias plataformas.\n",
    "\n",
    "**2- Avaliar como as avaliações de usuários e profissionais afetam as vendas de uma plataforma popular:**\n",
    "* Construiremos um gráfico de dispersão e calcularemos a correlação entre revisões e vendas;\n",
    "* Compararemos as vendas dos mesmos jogos em outras plataformas.\n",
    "\n",
    "**3- Avaliar a distribuição geral de jogos por gênero:**\n",
    "* Descobriremos quais são os gêneros mais lucrativos.\n"
   ]
  },
  {
   "cell_type": "markdown",
   "metadata": {},
   "source": [
    "#### Vamos construir um diagrama de caixa para as vendas globais de todos os jogos, divididos por plataforma ####"
   ]
  },
  {
   "cell_type": "code",
   "execution_count": 41,
   "metadata": {
    "scrolled": false
   },
   "outputs": [
    {
     "data": {
      "image/png": "[encoded data removed]",
      "text/plain": [
       "<Figure size 1080x360 with 1 Axes>"
      ]
     },
     "metadata": {
      "needs_background": "light"
     },
     "output_type": "display_data"
    }
   ],
   "source": [
    "# Criando uma tabela dinâmica para avaliar o desempenho dos jogos globalmente\n",
    "platform_global_sales = df_games_recently.pivot_table(index= 'name',\n",
    "                                                    columns= 'platform',\n",
    "                                                    values= 'total_sales',\n",
    "                                                    aggfunc= 'sum'\n",
    "                                                    )\n",
    "\n",
    "#Construindo um diagrama de caixa para as vendas globais de todos os jogos, divididos por plataforma.\n",
    "platform_global_sales.plot(kind= 'box',\n",
    "                          figsize= [15, 5],\n",
    "                          title= 'VENDAS GLOBAIS DOS JOGOS POR PLATAFORMA',\n",
    "                          xlabel= 'PLATAFORMAS',\n",
    "                          ylabel= 'VENDAS \\n(milhões de USD)')\n",
    "\n",
    "plt.show()"
   ]
  },
  {
   "cell_type": "code",
   "execution_count": 42,
   "metadata": {},
   "outputs": [
    {
     "name": "stdout",
     "output_type": "stream",
     "text": [
      "Apenas 40 jogos tiveram vendas acima de 5M USD\n",
      "\n",
      "Apenas 9 jogos tiveram vendas acima de 10M USD\n",
      "\n",
      "Apenas 1 jogos tiveram vendas acima de 20M USD\n"
     ]
    }
   ],
   "source": [
    "print(f\"Apenas {df_games_recently[df_games_recently['total_sales'] > 5]['name'].count()} jogos tiveram vendas acima de 5M USD\")\n",
    "print()\n",
    "print(f\"Apenas {df_games_recently[df_games_recently['total_sales'] > 10]['name'].count()} jogos tiveram vendas acima de 10M USD\")\n",
    "print()\n",
    "print(f\"Apenas {df_games_recently[df_games_recently['total_sales'] > 20]['name'].count()} jogos tiveram vendas acima de 20M USD\")"
   ]
  },
  {
   "cell_type": "code",
   "execution_count": 43,
   "metadata": {},
   "outputs": [
    {
     "name": "stdout",
     "output_type": "stream",
     "text": [
      "platform\n",
      "x360    0.31\n",
      "wiiu    0.22\n",
      "xone    0.22\n",
      "ps4     0.20\n",
      "ps3     0.20\n",
      "wii     0.18\n",
      "3ds     0.11\n",
      "pc      0.08\n",
      "ds      0.05\n",
      "psv     0.05\n",
      "psp     0.03\n",
      "Name: total_sales, dtype: float64\n"
     ]
    }
   ],
   "source": [
    "# Como temos muitos outliers, vamos calcular a mediana de vendas para cada plataforma ao invés da média\n",
    "platform_median = df_games_recently.groupby('platform')['total_sales'].median()\n",
    "platform_median = platform_median.dropna().sort_values(ascending = False)\n",
    "\n",
    "print(platform_median)"
   ]
  },
  {
   "cell_type": "markdown",
   "metadata": {},
   "source": [
    "**O que podemos observar com essas análises?**\n",
    "\n",
    "* As vendas variam muito de jogo para jogo, sendo que apenas alguns jogos conseguem se destacar muito, pois de um total de 2886 jogos analisados nos últimos 5 anos, apenas 40 jogos tiveram um faturamento acima de 5M USD, apenas 9 tiveram vendas acima de 10M USD e apenas 1 jogos conseguiu vendas acima de 20M USD;\n",
    "\n",
    "\n",
    "* Analisando a mediana das plataformas, quando nos concentramos somente nas plataformas que tem liderado o mercado, esse parâmetro não é muito diferente entre elas, ou seja, tirando alguns jogos que se destacam muito dos demais, a grande maioria tem um comportamento semelhante."
   ]
  },
  {
   "cell_type": "markdown",
   "metadata": {},
   "source": [
    "#### Agora veremos como as avaliações de usuários e profissionais afetam as vendas de uma plataforma popular: ####\n",
    "\n",
    "**Para realizar esta análise, selecionamos a plataforma Wii.**"
   ]
  },
  {
   "cell_type": "code",
   "execution_count": 44,
   "metadata": {},
   "outputs": [
    {
     "name": "stdout",
     "output_type": "stream",
     "text": [
      "                                    critic_score  user_score  total_sales\n",
      "name                                                                     \n",
      "big brain academy: wii degree               68.0         6.9         3.79\n",
      "princess isabella: a witch's curse           NaN         NaN         0.02\n",
      "iron man                                    44.0         7.0         0.58\n"
     ]
    }
   ],
   "source": [
    "# filtrando o DF somente com jogos do Wii e colocando o nome dos jogos como índice do DF\n",
    "df_games_wii = df_games[df_games['platform'] == 'wii'][['name', 'critic_score', 'user_score', 'total_sales']].set_index('name')\n",
    "print(df_games_wii.sample(3))"
   ]
  },
  {
   "cell_type": "markdown",
   "metadata": {},
   "source": [
    "##### Agora vamos focar nas notas dos críticos profissionais #####"
   ]
  },
  {
   "cell_type": "code",
   "execution_count": 45,
   "metadata": {},
   "outputs": [
    {
     "data": {
      "image/png": "[encoded data removed]",
      "text/plain": [
       "<Figure size 1080x360 with 1 Axes>"
      ]
     },
     "metadata": {
      "needs_background": "light"
     },
     "output_type": "display_data"
    }
   ],
   "source": [
    "# Filtrando somente os jogos em que temos as notas dos críticos\n",
    "df_games_wii_critics = df_games_wii[~df_games_wii['critic_score'].isna()]\n",
    "\n",
    "# Plotando um gráfico de dispersão com o DF filtrado com notas dos críticos para jogos da plataforma Wii\n",
    "df_games_wii_critics.plot(kind= 'scatter',\n",
    "                 x= 'critic_score',\n",
    "                 y= 'total_sales',\n",
    "                 figsize= [15, 5],\n",
    "                 title= 'RELAÇÃO ENTRE AS NOTAS DE CRITICOS E AS VENDAS DE UM JOGO DA PLATAFORMA WII',\n",
    "                 xlabel= 'NOTAS DOS CRÍTICOS',\n",
    "                 ylabel= 'VENDAS \\n(milhões de USD)'\n",
    "                 )\n",
    "plt.show()"
   ]
  },
  {
   "cell_type": "code",
   "execution_count": 46,
   "metadata": {},
   "outputs": [
    {
     "name": "stdout",
     "output_type": "stream",
     "text": [
      " A correlação entre revisões de críticos e vendas é: 0.17755988806089948\n"
     ]
    }
   ],
   "source": [
    "# Calculando a correlação entre revisões dos críticos e vendas dos jogos da plataforma Wii\n",
    "critics_sales_corr_wii = df_games_wii_critics['critic_score'].corr(df_games_wii_critics['total_sales'])\n",
    "print(f\" A correlação entre revisões de críticos e vendas é: {critics_sales_corr_wii}\")"
   ]
  },
  {
   "cell_type": "markdown",
   "metadata": {},
   "source": [
    "##### E agora vamos focar nas notas dadas pelos usuários #####"
   ]
  },
  {
   "cell_type": "code",
   "execution_count": 47,
   "metadata": {},
   "outputs": [
    {
     "data": {
      "image/png": "[encoded data removed]",
      "text/plain": [
       "<Figure size 1080x360 with 1 Axes>"
      ]
     },
     "metadata": {
      "needs_background": "light"
     },
     "output_type": "display_data"
    }
   ],
   "source": [
    "# Filtrando somente os jogos em que temos as notas dos usuários\n",
    "df_games_wii_users = df_games_wii[~df_games_wii['user_score'].isna()]\n",
    "\n",
    "# Plotando um gráfico de dispersão com o DF filtrado com notas dos usuários para jogos da plataforma Wii\n",
    "df_games_wii_users.plot(kind= 'scatter',\n",
    "                 x= 'user_score',\n",
    "                 y= 'total_sales',\n",
    "                 figsize= [15, 5],\n",
    "                 title= 'RELAÇÃO ENTRE AS NOTAS DE USUÁRIOS E AS VENDAS DE UM JOGO DA PLATAFORMA WII',\n",
    "                 xlabel= 'NOTAS DOS USUÁRIOS',\n",
    "                 ylabel= 'VENDAS \\n(milhões de USD)'\n",
    "                 )\n",
    "plt.show()"
   ]
  },
  {
   "cell_type": "code",
   "execution_count": 48,
   "metadata": {},
   "outputs": [
    {
     "name": "stdout",
     "output_type": "stream",
     "text": [
      " A correlação entre revisões de usuários e vendas é: 0.11015051136372715\n"
     ]
    }
   ],
   "source": [
    "# Calculando a correlação entre revisões dos usuários e as vendas dos jogos da plataforma Wii\n",
    "users_sales_corr_wii = df_games_wii_users['user_score'].corr(df_games_wii_critics['total_sales'])\n",
    "print(f\" A correlação entre revisões de usuários e vendas é: {users_sales_corr_wii}\")"
   ]
  },
  {
   "cell_type": "markdown",
   "metadata": {},
   "source": [
    "**Analisando os dados obtidos da plataforma Wii, podemos inferir que:**\n",
    "\n",
    "A coorelação de vendas com as notas de avaliações de críticos e usuários é desprezível, pois esteve abaixo de 0.3 em ambos os casos."
   ]
  },
  {
   "cell_type": "markdown",
   "metadata": {},
   "source": [
    "**Agora compararemos as vendas dos mesmos jogos analisados para o Wii em outras plataformas**"
   ]
  },
  {
   "cell_type": "code",
   "execution_count": 49,
   "metadata": {
    "scrolled": false
   },
   "outputs": [
    {
     "name": "stdout",
     "output_type": "stream",
     "text": [
      "['mario kart wii', 'wii sports resort', 'wii play', 'new super mario bros. wii']\n"
     ]
    }
   ],
   "source": [
    "# Criando uma lista com todos os nomes de jogos do Wii\n",
    "games_wii_names_list = df_games_wii.reset_index()\n",
    "games_wii_names_list = games_wii_names_list['name'].tolist()\n",
    "\n",
    "print(games_wii_names_list[1:5])"
   ]
  },
  {
   "cell_type": "code",
   "execution_count": 77,
   "metadata": {},
   "outputs": [
    {
     "name": "stdout",
     "output_type": "stream",
     "text": [
      "                                    name  critic_score  user_score  \\\n",
      "3941                      midnight magic           NaN         NaN   \n",
      "9336                       rogue warrior          27.0         2.8   \n",
      "9994          gt advance 2: rally racing          77.0         6.0   \n",
      "6572  castlevania: harmony of dissonance          87.0         8.2   \n",
      "325            tom clancy's the division          80.0         7.0   \n",
      "\n",
      "      total_sales  \n",
      "3941         0.51  \n",
      "9336         0.13  \n",
      "9994         0.11  \n",
      "6572         0.26  \n",
      "325          3.80  \n"
     ]
    }
   ],
   "source": [
    "# Filtrando somente jogos de outras plataformas, excluindo Wii\n",
    "df_games_other_platforms = df_games[df_games['platform'] != 'wii'][['name', 'critic_score', 'user_score', 'total_sales']]\n",
    "print(df_games_other_platforms.sample(5))"
   ]
  },
  {
   "cell_type": "code",
   "execution_count": 51,
   "metadata": {},
   "outputs": [
    {
     "name": "stdout",
     "output_type": "stream",
     "text": [
      "                                        name  critic_score  user_score  \\\n",
      "4645       blazing angels: squadrons of wwii          66.0         7.9   \n",
      "5667                       the biggest loser          63.0         NaN   \n",
      "10432                           science papa           NaN         NaN   \n",
      "9562                              fit in six           NaN         7.0   \n",
      "11148  the mummy: tomb of the dragon emperor          43.0         NaN   \n",
      "\n",
      "       total_sales  \n",
      "4645          0.41  \n",
      "5667          0.32  \n",
      "10432         0.11  \n",
      "9562          0.13  \n",
      "11148         0.09  \n"
     ]
    }
   ],
   "source": [
    "# Verificando quais jogos analisados da plataforma Wii também foram vendidos em outras plataformas\n",
    "df_same_games = df_games_other_platforms[df_games_other_platforms['name'].isin(games_wii_names_list)]\n",
    "\n",
    "print(df_same_games.sample(5))"
   ]
  },
  {
   "cell_type": "markdown",
   "metadata": {},
   "source": [
    "##### Novamente vamos iniciar com a analise das avaliações dos críticos ####"
   ]
  },
  {
   "cell_type": "code",
   "execution_count": 52,
   "metadata": {},
   "outputs": [
    {
     "data": {
      "image/png": "[encoded data removed]",
      "text/plain": [
       "<Figure size 1080x360 with 1 Axes>"
      ]
     },
     "metadata": {
      "needs_background": "light"
     },
     "output_type": "display_data"
    }
   ],
   "source": [
    "# Filtrando somente os jogos em que temos as notas dos críticos\n",
    "df_same_games_critics = df_same_games[~df_same_games['critic_score'].isna()]\n",
    "\n",
    "# Plotando um gráfico de dispersão com o DF filtrado com notas dos críticos para jogos de outras plataformas\n",
    "df_same_games_critics.plot(kind= 'scatter',\n",
    "                 x= 'critic_score',\n",
    "                 y= 'total_sales',\n",
    "                 figsize= [15, 5],\n",
    "                 title= 'RELAÇÃO ENTRE AS NOTAS DE CRITICOS E AS VENDAS DE UM JOGO DE OUTRAS PLATAFORMAS',\n",
    "                 xlabel= 'NOTAS DOS CRÍTICOS',\n",
    "                 ylabel= 'VENDAS \\n(milhões de USD)'\n",
    "                 )\n",
    "plt.show()"
   ]
  },
  {
   "cell_type": "code",
   "execution_count": 53,
   "metadata": {},
   "outputs": [
    {
     "name": "stdout",
     "output_type": "stream",
     "text": [
      " A correlação entre as revisões de críticos e as vendas dos mesmos jogos em outras plataformas é: 0.3604797140284848\n"
     ]
    }
   ],
   "source": [
    "# Calculando a correlação entre revisões dos críticos e as vendas dos mesmos jogos em outras plataformas\n",
    "critics_sales_corr_others = df_same_games_critics['critic_score'].corr(df_same_games_critics['total_sales'])\n",
    "print(f\" A correlação entre as revisões de críticos e as vendas dos mesmos jogos em outras plataformas é: {critics_sales_corr_others}\")"
   ]
  },
  {
   "cell_type": "markdown",
   "metadata": {},
   "source": [
    "##### Agora faremos o mesmo novamente considerando as notas dos usuários #####"
   ]
  },
  {
   "cell_type": "code",
   "execution_count": 54,
   "metadata": {},
   "outputs": [
    {
     "data": {
      "image/png": "[encoded data removed]",
      "text/plain": [
       "<Figure size 1080x360 with 1 Axes>"
      ]
     },
     "metadata": {
      "needs_background": "light"
     },
     "output_type": "display_data"
    }
   ],
   "source": [
    "# Filtrando somente os jogos em que temos as notas dos usuários\n",
    "df_same_games_users = df_same_games[~df_same_games['user_score'].isna()]\n",
    "\n",
    "# Plotando um gráfico de dispersão com o DF filtrado com notas dos usuários para jogos de outras plataformas\n",
    "df_same_games_users.plot(kind= 'scatter',\n",
    "                 x= 'user_score',\n",
    "                 y= 'total_sales',\n",
    "                 figsize= [15, 5],\n",
    "                 title= 'RELAÇÃO ENTRE AS NOTAS DE USUÁRIOS E AS VENDAS DE UM JOGO DE OUTRAS PLATAFORMAS',\n",
    "                 xlabel= 'NOTAS DOS USUÁRIOS',\n",
    "                 ylabel= 'VENDAS \\n(milhões de USD)'\n",
    "                 )\n",
    "plt.show()"
   ]
  },
  {
   "cell_type": "code",
   "execution_count": 55,
   "metadata": {},
   "outputs": [
    {
     "name": "stdout",
     "output_type": "stream",
     "text": [
      "A correlação entre as revisões de usuários e as vendas dos mesmos jogos em outras plataformas é: 0.037043702812737424\n"
     ]
    }
   ],
   "source": [
    "# Calculando a correlação entre revisões dos usuários e as vendas dos mesmos jogos em outras plataformas\n",
    "users_sales_corr_others = df_same_games_users['user_score'].corr(df_same_games_users['total_sales'])\n",
    "print(f\"A correlação entre as revisões de usuários e as vendas dos mesmos jogos em outras plataformas é: {users_sales_corr_others}\")"
   ]
  },
  {
   "cell_type": "markdown",
   "metadata": {},
   "source": [
    "**Em comparação com a análise que fizemos com jogos na plataforma 'Wii', encontramos um resultado diferente para a correlação entre avaliações de usuários e críticos com vendas dos mesmos jogos em outras plataformas:**\n",
    "\n",
    "* A correlação encontrada entre vendas e notas dos críticos foi de 0.36, o que nos mostra que temos uma correlação fraca, mas ainda assim diferente do resultado obtido com a análise da plataforma wii, que nos mostrou uma correlação desprezível, de apenas 0.18;\n",
    "\n",
    "\n",
    "* A correlação encontrada entre vendas e notas dos usuários foi de 0.037, o que nos mostra que neste caso nem temos correlação, pois podemos observar no gráfico que os jogos mais vendidos receberam apenas uma nota em torno de 3.5 pelos usuários. Este resultado também foi diferente do resultado obtido com a análise da plataforma wii, que nos mostrou uma correlação de 0.11;\n",
    "\n",
    "\n",
    "* Em resumo, a avaliação dos críticos tende a ser mais importante para as vendas dos games do que a avaliação dos usuários, mas mesmo para as notas dos críticos esta correlação está longe de ser forte."
   ]
  },
  {
   "cell_type": "markdown",
   "metadata": {},
   "source": [
    "#### Agora daremos uma olhada na distribuição geral de jogos por gênero: ####\n",
    "\n",
    "##### Quais são os gêneros mais lucrativos? #####"
   ]
  },
  {
   "cell_type": "code",
   "execution_count": 56,
   "metadata": {},
   "outputs": [
    {
     "data": {
      "image/png": "[encoded data removed]",
      "text/plain": [
       "<Figure size 864x288 with 1 Axes>"
      ]
     },
     "metadata": {
      "needs_background": "light"
     },
     "output_type": "display_data"
    }
   ],
   "source": [
    "# Agrupando os dados do DF principal por gêneros e retornando a soma das vendas totais em ordem crescente\n",
    "lucrative_genres = df_games_recently.groupby('genre')['total_sales'].sum().sort_values(ascending = False)\n",
    "\n",
    "# plotando um gráfico de barras para exibir os gêneros mais rentáveis \n",
    "lucrative_genres.plot(kind= 'bar',\n",
    "                     figsize= [12, 4],\n",
    "                     title= 'GÊNEROS QUE MAIS VENDERAM NA HISTÓRIA DOS GAMES',\n",
    "                     xlabel= 'GÊNEROS',\n",
    "                     ylabel= 'VENDAS \\n(milhões de USD)'\n",
    "                     )\n",
    "plt.show()"
   ]
  },
  {
   "cell_type": "markdown",
   "metadata": {},
   "source": [
    "**Analisando os dados em geral, podemos observar que:**\n",
    "\n",
    "* Os gêneros **mais lucrativos** são: **Action e Shooter**\n",
    "\n",
    "\n",
    "* Os gêneros **menos lucrativos** são: **Strategy e Puzzle**"
   ]
  },
  {
   "cell_type": "markdown",
   "metadata": {},
   "source": [
    "##### Podemos generalizar sobre gêneros com vendas altas e baixas? #####"
   ]
  },
  {
   "cell_type": "code",
   "execution_count": 57,
   "metadata": {},
   "outputs": [
    {
     "name": "stdout",
     "output_type": "stream",
     "text": [
      "Os gêneros que mais tem jogos no top 100, são:\n",
      "\n",
      "genre\n",
      "shooter    34\n",
      "action     23\n",
      "Name: genre, dtype: int64\n"
     ]
    }
   ],
   "source": [
    "# Filtrando o DF para obter somente as colunas desejadas e ordenados do maior para o menor pela coluna de vendas totais\n",
    "top_100_games = df_games_recently[['name', 'genre', 'total_sales']].sort_values(by = 'total_sales', ascending = False)\n",
    "\n",
    "# Obtendo os nomes e gêneros dos 100 games mais vendidos da história\n",
    "top_100_games = top_100_games[['name', 'genre']][0:100]\n",
    "\n",
    "# Agrupando os jogos por gênero e contando quantos jogos de cada gênero estão dentre os 1000 mais vendidos\n",
    "top_100_games_genre = top_100_games.groupby('genre')['genre'].count().sort_values(ascending = False)\n",
    "\n",
    "print('Os gêneros que mais tem jogos no top 100, são:')\n",
    "print()\n",
    "print(top_100_games_genre.head(2))"
   ]
  },
  {
   "cell_type": "code",
   "execution_count": 58,
   "metadata": {},
   "outputs": [
    {
     "name": "stdout",
     "output_type": "stream",
     "text": [
      "Os gêneros que mais tem jogos dentre os 100 piores, são:\n",
      "\n",
      "genre\n",
      "adventure    22\n",
      "action       15\n",
      "Name: genre, dtype: int64\n"
     ]
    }
   ],
   "source": [
    "# Filtrando o DF para obter somente as colunas desejadas e ordenados do menor para o maior pela coluna de vendas totais\n",
    "bottom_100_games = df_games[['name', 'genre', 'total_sales']].sort_values(by = 'total_sales', ascending = True)\n",
    "\n",
    "# Obtendo os nomes e gêneros dos 100 games menos vendidos da história\n",
    "bottom_100_games = bottom_100_games[['name', 'genre']][0:100]\n",
    "\n",
    "# Agrupando os jogos por gênero e contando quantos jogos de cada gênero estão dentre os 100 menos vendidos\n",
    "bottom_100_games_genre = bottom_100_games.groupby('genre')['genre'].count().sort_values(ascending = False)\n",
    "\n",
    "print('Os gêneros que mais tem jogos dentre os 100 piores, são:')\n",
    "print()\n",
    "print(bottom_100_games_genre.head(2))"
   ]
  },
  {
   "cell_type": "code",
   "execution_count": 59,
   "metadata": {},
   "outputs": [
    {
     "data": {
      "image/png": "[encoded data removed]",
      "text/plain": [
       "<Figure size 1080x288 with 1 Axes>"
      ]
     },
     "metadata": {
      "needs_background": "light"
     },
     "output_type": "display_data"
    }
   ],
   "source": [
    "top_bottom_concat = pd.concat([top_100_games_genre, bottom_100_games_genre], axis = 'columns')\n",
    "top_bottom_concat.columns = ['top', 'bottom']\n",
    "\n",
    "top_bottom_concat.plot(kind= 'bar',\n",
    "                      figsize= [15, 4],\n",
    "                      title= 'COMPARAÇÃO DA QUANTIDADE DE JOGOS DE CADA GÊNERO DENTRE OS 100 MELHORES E OS 100 PIORES',\n",
    "                      xlabel= 'GÊNEROS',\n",
    "                      ylabel= 'QUANTIDADE DE JOGOS',\n",
    "                      grid= True\n",
    "                      )\n",
    "\n",
    "plt.legend(fontsize = 15)\n",
    "\n",
    "plt.show()"
   ]
  },
  {
   "cell_type": "markdown",
   "metadata": {},
   "source": [
    "**Analisando o gráfico acima podemos inferir que:**\n",
    "\n",
    "* Não podemos generalizar sobre gêneros com vendas altas e baixas, pois alguns gêneros tem um número parelho de jogos amados e jogos odiados, como por exemplo **fighting, action, misc, role-playing, simulation e sports;**\n",
    "\n",
    "\n",
    "* O gênero **action**, por exemplo, aparece como segundo colocado dentre os 100 melhores games, mas também aparece como o segundo que mais tem jogos ruins;\n",
    "\n",
    "\n",
    "* Porém, é possível verificar um gênero que se destaca de forma positiva. O gênero **shooter** tem muito mais probabilidade de estar do lado positivo da balança;\n",
    "\n",
    "\n",
    "* E também que alguns dos gêneros tem muito mais chance de estarem do lado negro da força, como por exemplo: **adventure, strategy e puzzle.**"
   ]
  },
  {
   "cell_type": "markdown",
   "metadata": {},
   "source": [
    "### Nesta etapa criaremos um perfil de usuário para cada região (AN, UE, JP): ###\n",
    "\n",
    "* Iremos avaliar as cinco plataformas principais para cada região e a fatia que ocupam no mercado;\n",
    "* Verificaremos quais os cinco principais gêneros de cada uma das regiões e;\n",
    "* Se as classificações do ESRB afetam as vendas em regiões individuais."
   ]
  },
  {
   "cell_type": "markdown",
   "metadata": {},
   "source": [
    "#### Quais são as cinco plataformas principais para cada região? ####"
   ]
  },
  {
   "cell_type": "markdown",
   "metadata": {},
   "source": [
    "##### Primeiro vamos ter um apanhado do mercado mundial nos últimos anos #####"
   ]
  },
  {
   "cell_type": "code",
   "execution_count": 60,
   "metadata": {},
   "outputs": [
    {
     "name": "stdout",
     "output_type": "stream",
     "text": [
      "As 5 maiores plataformas do mundo são: ['ps4', 'ps3', 'x360', '3ds', 'xone']\n"
     ]
    }
   ],
   "source": [
    "# Verificando quais são as 5 maiores plataformas da atualidade considerando o mundo todo\n",
    "top_platforms_world = df_games_recently.groupby('platform')['total_sales'].sum().sort_values(ascending=False).reset_index()\n",
    "\n",
    "# Criando uma lista com as 5 maiores plataformas mundiais para analisarmos posteriormente o desempenho delas em cada região\n",
    "top_5_platform_list = top_platforms_world['platform'].tolist()[0:5]\n",
    "\n",
    "print(f\"As 5 maiores plataformas do mundo são: {top_5_platform_list}\")"
   ]
  },
  {
   "cell_type": "markdown",
   "metadata": {},
   "source": [
    "##### Agora vamos olhar para cada região #####"
   ]
  },
  {
   "cell_type": "code",
   "execution_count": 61,
   "metadata": {},
   "outputs": [
    {
     "name": "stdout",
     "output_type": "stream",
     "text": [
      "   platform  na_sales  eu_sales  jp_sales  total_sales\n",
      "0       3ds     55.31     42.64     87.79       194.61\n",
      "1        ds      4.59      3.53      3.72        12.55\n",
      "2        pc     19.12     37.76      0.00        62.65\n",
      "3       ps3    103.38    106.86     35.29       288.79\n",
      "4       ps4    108.74    141.09     15.96       314.14\n",
      "5       psp      0.13      0.42     10.47        11.19\n",
      "6       psv     10.98     11.36     21.04        49.18\n",
      "7       wii     17.45     11.92      3.39        35.37\n",
      "8      wiiu     38.10     25.13     13.01        82.19\n",
      "9      x360    140.05     74.52      1.57       236.54\n",
      "10     xone     93.12     51.59      0.34       159.32\n"
     ]
    }
   ],
   "source": [
    "# Agrupando o DF de games por plataforma e retornando a soma das colunas das vendas em cada região\n",
    "df_platform_per_region = df_games_recently.groupby('platform')[['na_sales', 'eu_sales', 'jp_sales', 'total_sales']].sum()\n",
    "df_platform_per_region = df_platform_per_region[df_platform_per_region['total_sales'] > 0]\n",
    "df_platform_per_region = df_platform_per_region.reset_index()\n",
    "\n",
    "print(df_platform_per_region)"
   ]
  },
  {
   "cell_type": "code",
   "execution_count": 62,
   "metadata": {},
   "outputs": [
    {
     "name": "stdout",
     "output_type": "stream",
     "text": [
      "As 5 maiores plataformas da região na são: ['x360', 'ps4', 'ps3', 'xone', '3ds']\n",
      "As 5 maiores plataformas da região eu são: ['ps4', 'ps3', 'x360', 'xone', '3ds']\n",
      "As 5 maiores plataformas da região jp são: ['3ds', 'ps3', 'psv', 'ps4', 'wiiu']\n"
     ]
    }
   ],
   "source": [
    "# Criando uma função para imprimir as 5 maiores plataformas de cada região somente para comparação\n",
    "\n",
    "def top_5_platforms (sales):\n",
    "    top_list = df_platform_per_region.sort_values(by= sales, ascending = False) #filtrando a região e ordenando do maior para o menor\n",
    "    top_list = top_list['platform'].tolist() # transformando as 5 maiores plataformas em uma lista\n",
    "   \n",
    "    return print(f\"As 5 maiores plataformas da região {sales.split('_')[0]} são: {top_list[0:5]}\")\n",
    "    \n",
    "top_5_platforms('na_sales')\n",
    "top_5_platforms('eu_sales')\n",
    "top_5_platforms('jp_sales')"
   ]
  },
  {
   "cell_type": "markdown",
   "metadata": {},
   "source": [
    "**Agora vamos avaliar a fatia que cada plataforma top-5 ocupa no mercado da região nos últimos 5 anos**"
   ]
  },
  {
   "cell_type": "code",
   "execution_count": 63,
   "metadata": {},
   "outputs": [
    {
     "name": "stdout",
     "output_type": "stream",
     "text": [
      "          na_sales  na_total  eu_sales  eu_total  jp_sales  jp_total\n",
      "platform                                                            \n",
      "3ds          55.31    590.97     42.64    506.82     87.79    192.58\n",
      "ps3         103.38    590.97    106.86    506.82     35.29    192.58\n",
      "ps4         108.74    590.97    141.09    506.82     15.96    192.58\n",
      "x360        140.05    590.97     74.52    506.82      1.57    192.58\n",
      "xone         93.12    590.97     51.59    506.82      0.34    192.58\n"
     ]
    }
   ],
   "source": [
    "# Criando uma coluna para o total de vendas de cada região para realização do cálculo\n",
    "df_platform_per_region['na_total'] = df_platform_per_region['na_sales'].sum()\n",
    "df_platform_per_region['eu_total'] = df_platform_per_region['eu_sales'].sum()\n",
    "df_platform_per_region['jp_total'] = df_platform_per_region['jp_sales'].sum()\n",
    "\n",
    "# Filtrando o DataFrame para manter somente as 5 maiores plataformas\n",
    "df_top_5_platform = df_platform_per_region[df_platform_per_region['platform'].isin(top_5_platform_list)]\n",
    "df_top_5_platform = df_top_5_platform.set_index('platform')\n",
    "\n",
    "# Imprimindo na ordem da operação para facilitar a visualização\n",
    "print(df_top_5_platform[['na_sales', 'na_total', 'eu_sales', 'eu_total', 'jp_sales', 'jp_total']])"
   ]
  },
  {
   "cell_type": "code",
   "execution_count": 64,
   "metadata": {},
   "outputs": [
    {
     "name": "stdout",
     "output_type": "stream",
     "text": [
      "Abaixo os valores ocupados no mercado de cada região pelas plataformas TOP-5:\n",
      "\n",
      "          na_slices  eu_slices  jp_slices\n",
      "platform                                 \n",
      "3ds        9.359189   8.413243  45.586250\n",
      "ps3       17.493274  21.084409  18.324852\n",
      "ps4       18.400257  27.838286   8.287465\n",
      "x360      23.698326  14.703445   0.815246\n",
      "xone      15.757145  10.179156   0.176550\n"
     ]
    }
   ],
   "source": [
    "# Criando as colunas com os resultados da operação para cálculo da fatia no mercado\n",
    "df_top_5_platform['na_slices'] = df_top_5_platform['na_sales'] / df_top_5_platform['na_total'] * 100\n",
    "df_top_5_platform['eu_slices'] = df_top_5_platform['eu_sales'] / df_top_5_platform['eu_total'] * 100\n",
    "df_top_5_platform['jp_slices'] = df_top_5_platform['jp_sales'] / df_top_5_platform['jp_total'] * 100\n",
    "\n",
    "df_slices_per_region = df_top_5_platform[['na_slices', 'eu_slices', 'jp_slices']]\n",
    "\n",
    "print('Abaixo os valores ocupados no mercado de cada região pelas plataformas TOP-5:')\n",
    "print()\n",
    "print(df_slices_per_region)"
   ]
  },
  {
   "cell_type": "code",
   "execution_count": 65,
   "metadata": {},
   "outputs": [
    {
     "data": {
      "image/png": "[encoded data removed]",
      "text/plain": [
       "<Figure size 1080x288 with 1 Axes>"
      ]
     },
     "metadata": {
      "needs_background": "light"
     },
     "output_type": "display_data"
    }
   ],
   "source": [
    "# Plotando um gráfico de barras para facilitar a visualização dos dados\n",
    "\n",
    "df_slices_per_region.plot(kind= 'bar',\n",
    "                         figsize= [15, 4],\n",
    "                         title= 'FATIA DO MERCADO OCUPADA POR CADA PLATAFORMA TOP 5',\n",
    "                         xlabel= 'PLATAFORMAS',\n",
    "                         ylabel= 'FATIA DO MERCADO (%)',\n",
    "                         rot= 0,\n",
    "                         grid= True\n",
    "                        )\n",
    "\n",
    "plt.legend(['América do Norte', 'Europa', 'Japão'], fontsize = 12)\n",
    "\n",
    "plt.show()"
   ]
  },
  {
   "cell_type": "markdown",
   "metadata": {},
   "source": [
    "**Analisando o mercado das plataformas por região, podemos observar que temos algumas diferenças importantes entre as regiões, mas também que temos muita coisa em comum:**\n",
    "\n",
    "* **O mercado americano e o europeu são muito semelhantes**. Ambos tem as mesmas 5 plataformas como top-5, somente com uma ordem um pouco diferente, pois a plataforma **X360** lidera o mercado americano e ocupa a terceira posição na europa;  \n",
    "\n",
    "\n",
    "* A maior diferença observada é quando comparamos o mercado do Japão, pois as 5 plataformas que lideram o mercado japonês sequer são as mesmas que lideram os outros mercados avaliados. No top-5 japonês temos 2 plataformas que não aparecem dentre as 5 primeiras dos outros mercados: **PSV e WiiU** e, além disso, a plataforma que lidera o mercado japonês é **3DS**, ocupando uma fatia de mais de **45% do mercado**, sendo que esta plataforma é **apenas 5ª colocada nos outros mercados avaliados, mordendo uma fatia menor do que 10%**;  \n",
    "\n",
    "\n",
    "* Outra diferença importante olhando para o mercado japonês é que **a plataforma X360, a mais forte das Américas e a terceira da Europa, não aparece no top-5 japonês e ocupa uma fatia irrelevante do mercado (0.8%)**. O mesmo acontece com **a plataforma Xone, que é a 4ª colocada na América e na Europa**, ocupando 15% e 10% do mercado respectivamente, mas **no japão praticamente não existe, e ocupa uma fatia de míseros 0.18%.**  \n",
    "\n",
    "\n",
    "* A única plataforma que ocupa uma fatia parecida nos 3 mercados é a **PS3**, que ocupa **17.5%, 21.1% e 18.3%** nos mercados americano, europeu e japonês, respectivamente."
   ]
  },
  {
   "cell_type": "markdown",
   "metadata": {},
   "source": [
    "#### Quais são os cinco gêneros principais para cada região? ####"
   ]
  },
  {
   "cell_type": "code",
   "execution_count": 66,
   "metadata": {},
   "outputs": [
    {
     "name": "stdout",
     "output_type": "stream",
     "text": [
      "              na_sales  eu_sales  jp_sales\n",
      "genre                                     \n",
      "action          177.84    159.34     52.80\n",
      "adventure         8.92      9.46      8.24\n",
      "fighting         19.79     10.79      9.44\n",
      "misc             38.19     26.32     12.86\n",
      "platform         25.38     21.41      8.63\n",
      "puzzle            1.13      1.40      2.14\n",
      "racing           17.22     27.29      2.50\n",
      "role-playing     64.00     48.53     65.44\n",
      "shooter         144.77    113.47      9.23\n",
      "simulation        7.97     14.55     10.41\n",
      "sports           81.53     69.09      8.01\n",
      "strategy          4.23      5.17      2.88\n"
     ]
    }
   ],
   "source": [
    "# Agrupando o DF de games por gênero e retornando a soma das colunas das vendas em cada região\n",
    "df_genre_per_region = df_games_recently.groupby('genre')[['na_sales', 'eu_sales', 'jp_sales']].sum()\n",
    "\n",
    "print(df_genre_per_region)"
   ]
  },
  {
   "cell_type": "code",
   "execution_count": 67,
   "metadata": {},
   "outputs": [
    {
     "name": "stdout",
     "output_type": "stream",
     "text": [
      "Os 5 maiores gêneros da região na são: ['action', 'shooter', 'sports', 'role-playing', 'misc']\n",
      "Os 5 maiores gêneros da região eu são: ['action', 'shooter', 'sports', 'role-playing', 'racing']\n",
      "Os 5 maiores gêneros da região jp são: ['role-playing', 'action', 'misc', 'simulation', 'fighting']\n"
     ]
    }
   ],
   "source": [
    "# Criando uma função para imprimir os 5 maiores gêneros de cada região\n",
    "\n",
    "def top_5_genres (sales):\n",
    "    top_list = df_genre_per_region[sales].sort_values(ascending = False).reset_index() #filtrando a região e ordenando do maior para o menor\n",
    "    top_list = top_list['genre'][0:5].tolist() # transformando os 5 maiores gêneros em uma lista\n",
    "    return print(f\"Os 5 maiores gêneros da região {sales.split('_')[0]} são: {top_list}\")\n",
    "\n",
    "top_5_genres('na_sales')\n",
    "top_5_genres('eu_sales')\n",
    "top_5_genres('jp_sales')"
   ]
  },
  {
   "cell_type": "markdown",
   "metadata": {},
   "source": [
    "* Os gêneros preferidos da América do Norte e Europa são os mesmos nas 4 primeiras posições, mais uma vez mostrando grande similaridade entre estes mercados;\n",
    "\n",
    "\n",
    "* Mais uma vez podemos observar uma grande diferença do mercado japonês para os mercados europeu e norte americano, pois os gêneros **simulation e fighting** estão na preferência do país a frente de outros gêneros como Shooter e Sports, que são 2º e 3º colocados nos outros mercados citados."
   ]
  },
  {
   "cell_type": "markdown",
   "metadata": {},
   "source": [
    "#### As classificações do ESRB afetam as vendas em regiões individuais? ####"
   ]
  },
  {
   "cell_type": "code",
   "execution_count": 68,
   "metadata": {},
   "outputs": [
    {
     "name": "stdout",
     "output_type": "stream",
     "text": [
      "         na_sales  eu_sales  jp_sales\n",
      "rating                               \n",
      "AO           0.00      0.00      0.00\n",
      "E          114.37    113.03     28.33\n",
      "E10+        75.70     55.37      8.19\n",
      "EC           0.00      0.00      0.00\n",
      "K-A          0.00      0.00      0.00\n",
      "M          231.57    193.96     21.20\n",
      "RP           0.00      0.00      0.00\n",
      "T           66.02     52.96     26.02\n",
      "unknown      0.00      0.00      0.00\n"
     ]
    }
   ],
   "source": [
    "# Criando um DF somente com as colunas de interesse e para quando rating é conhecido\n",
    "df_rating = df_games_recently[df_games_recently['rating'] != 'unknown'][['rating', 'na_sales', 'eu_sales', 'jp_sales']].reset_index(drop=True)\n",
    "\n",
    "df_rating_groupby = df_rating.groupby('rating')[['na_sales', 'eu_sales', 'jp_sales']].sum()\n",
    "\n",
    "print(df_rating_groupby)"
   ]
  },
  {
   "cell_type": "code",
   "execution_count": 69,
   "metadata": {},
   "outputs": [
    {
     "data": {
      "image/png": "[encoded data removed]",
      "text/plain": [
       "<Figure size 1080x360 with 1 Axes>"
      ]
     },
     "metadata": {
      "needs_background": "light"
     },
     "output_type": "display_data"
    }
   ],
   "source": [
    "df_rating_groupby.plot(kind= 'bar',\n",
    "                      figsize= [15, 5],\n",
    "                      title= 'VENDAS POR REGIÃO POR CLASSIFICAÇÃO ESRB',\n",
    "                      xlabel= 'CLASSIFICAÇÕES ESRB',\n",
    "                      ylabel= 'VENDAS\\n(milhões de USD)',\n",
    "                      rot= 0,\n",
    "                      grid= True\n",
    "                      )\n",
    "\n",
    "plt.legend(['América do Norte', 'Europa', 'Japão'], fontsize = 10)\n",
    "\n",
    "plt.show()"
   ]
  },
  {
   "cell_type": "markdown",
   "metadata": {},
   "source": [
    "**Novamente é possível observar a similaridade entre os mercados americano e europeu e a diferença destes para o mercado japonês:**\n",
    "\n",
    "\n",
    "* **Para os mercados americano e europeu** a classificação ESRB influencia diretamente nas vendas dos jogos, sendo que jogos de classificação Mature (M) são disparadamente os mais vendidos, seguidos por jogos de classificação livre (E) e depois por jogos para maiores de 10 anos (E10+) e Teen (T).\n",
    "\n",
    "\n",
    "* **Para o mercado japonês**, a classificação ESRB não interfere de forma similar às outras regiões analisadas. É possível observar que o comportamento do mercado japonês é muito parecido para jogos de classificação livre (E), Teen (T) e Mature (M), sendo que o mercado de jogos (M) é apenas o terceiro colocado, enquanto nas outras regiões lidera com folga.\n",
    "\n",
    "\n",
    "* Os jogos para adultos (AO), os com classificação pendente (RP), os para crianças pequenas (EC) e (K-A) apareceram com vendas zeradas em todas as regiões."
   ]
  },
  {
   "cell_type": "markdown",
   "metadata": {},
   "source": [
    "### Nesta etapa testaremos as seguintes hipóteses: ###\n",
    "\n",
    "* As classificações médias dos usuários das plataformas Xbox One e PC são as mesmas;\n",
    "\n",
    "* As classificações médias de usuários para os gêneros Action (ação) e Sports (esportes) são diferentes."
   ]
  },
  {
   "cell_type": "markdown",
   "metadata": {},
   "source": [
    "#### Testanto a hipótese de que as classificações médias dos usuários das plataformas Xbox One e PC são as mesmas: ####"
   ]
  },
  {
   "cell_type": "code",
   "execution_count": 70,
   "metadata": {},
   "outputs": [
    {
     "name": "stdout",
     "output_type": "stream",
     "text": [
      "[7.9, 5.4, 6.4, 6.2, 4.1, 5.5, 7.5, 4.4, 7.2, 6.4, 4.3, 5.5, 3.1, 6.1, 6.2, 8.2, 7.4, 5.9, 5.4, 6.9, 6.6, 7.9, 6.3, 7.5, 6.8, 5.8, 6.4, 6.6, 8.2, 6.1, 7.3, 8.0, 8.0, 6.2, 6.9, 9.2, 6.1, 7.8, 8.4, 5.9, 5.1, 5.2, 5.8, 7.7, 7.4, 5.6, 6.8, 6.2, 6.9, 5.7, 7.0, 6.4, 5.9, 7.7, 7.3, 7.4, 5.8, 7.8, 7.3, 6.7, 5.9, 5.1, 4.6, 5.1, 5.7, 8.0, 5.7, 6.8, 5.1, 7.5, 6.9, 7.8, 8.1, 6.0, 6.4, 6.3, 7.0, 7.8, 7.1, 6.0, 6.9, 3.2, 8.6, 7.7, 5.1, 6.6, 7.9, 6.1, 7.2, 5.5, 8.5, 7.0, 5.4, 4.3, 6.8, 5.5, 5.8, 5.3, 7.1, 5.5, 4.0, 6.2, 8.3, 6.8, 6.7, 6.8, 3.1, 7.3, 3.0, 7.0, 8.3, 7.0, 7.2, 4.4, 7.0, 6.9, 8.3, 7.5, 8.0, 7.2, 6.6, 7.3, 4.1, 7.9, 8.7, 5.7, 8.0, 2.1, 8.2, 5.6, 7.2, 6.2, 5.3, 7.5, 6.0, 3.1, 7.6, 8.5, 6.8, 6.3, 5.8, 7.7, 6.9, 8.4, 5.2, 4.9, 7.1, 7.1, 6.1, 8.1, 6.3, 6.0, 8.9, 7.7, 1.6, 8.0, 5.4, 8.1, 4.3, 7.4, 4.3, 7.1, 5.8, 4.2, 6.6, 7.3, 7.2, 7.1, 6.7, 8.8, 7.9, 8.1, 3.1, 7.5, 6.3, 8.2, 7.1, 6.8, 6.0, 8.2, 6.6, 6.7]\n",
      "\n",
      "[4.0, 3.9, 7.9, 4.8, 7.9, 4.2, 2.2, 6.0, 5.4, 7.9, 6.7, 5.5, 8.2, 7.5, 6.2, 8.2, 5.7, 5.9, 4.2, 9.3, 8.2, 8.5, 8.0, 7.7, 5.5, 6.7, 6.5, 6.2, 3.0, 6.8, 8.3, 5.9, 6.0, 8.2, 4.7, 7.6, 5.8, 4.5, 4.6, 6.6, 7.6, 5.5, 8.0, 6.9, 2.1, 5.4, 7.5, 7.5, 6.6, 6.2, 4.2, 5.9, 8.0, 5.9, 3.3, 7.3, 7.0, 7.3, 7.1, 6.9, 8.2, 5.6, 7.3, 8.2, 5.9, 6.5, 4.4, 7.9, 3.2, 8.6, 8.6, 4.3, 7.4, 7.4, 3.5, 7.1, 8.2, 4.9, 8.1, 4.8, 6.4, 7.5, 7.4, 7.8, 8.2, 6.9, 8.4, 5.3, 8.9, 7.6, 3.8, 3.0, 8.7, 7.3, 2.5, 7.1, 8.2, 7.9, 6.0, 7.0, 4.2, 6.4, 7.4, 7.3, 4.4, 5.7, 5.7, 4.8, 4.3, 7.6, 5.7, 6.9, 6.9, 8.0, 5.8, 6.5, 7.5, 3.3, 7.7, 8.5, 8.4, 8.6, 8.0, 7.9, 8.0, 5.7, 4.4, 5.8, 6.8, 6.8, 2.9, 7.4, 8.2, 6.9, 6.7, 7.4, 3.6, 5.1, 6.5, 3.4, 5.4, 7.5, 8.6, 4.3, 5.9, 5.7, 8.0, 7.0, 7.6, 3.8, 7.1, 4.0, 6.2, 7.7, 7.0, 3.5, 4.8, 7.5, 6.1, 6.3, 8.3, 8.7, 6.8, 7.6, 8.1, 5.3, 6.9, 6.8, 4.8, 6.1, 8.3, 6.2, 6.2, 7.7, 8.0, 6.4, 7.8, 5.4, 1.4, 3.7, 2.4, 6.5, 8.5, 5.4, 6.0, 7.4, 8.3, 8.7, 5.3, 4.3, 7.6, 7.7, 6.2, 6.3, 7.7, 6.8, 7.3, 7.1, 7.1, 7.1, 8.3, 6.8, 7.9, 1.4, 7.9, 7.6]\n"
     ]
    }
   ],
   "source": [
    "# Filtrando dados quando a plataforma é xone e as notas de usuário são conhecidas (foco são jogos com notas)\n",
    "xone_user_score = (df_games_recently[(df_games_recently['platform'] == 'xone') & (~df_games_recently['user_score'].isna())])\n",
    "xone_user_score_data = xone_user_score['user_score'].tolist()\n",
    "\n",
    "# Filtrando dados quando a plataforma é pc e e as notas de usuário são conhecidas (foco são jogos com notas)\n",
    "pc_user_score = (df_games_recently[(df_games_recently['platform'] == 'pc') & (~df_games_recently['user_score'].isna())])\n",
    "pc_user_score_data = pc_user_score['user_score'].tolist()\n",
    "\n",
    "print(xone_user_score_data)\n",
    "print()\n",
    "print(pc_user_score_data)"
   ]
  },
  {
   "cell_type": "markdown",
   "metadata": {},
   "source": [
    "**EXPLICAÇÃO:**\n",
    "\n",
    "Como iremos comparar se as médias de duas populações são iguais entre si, utilizaremos o **teste-t** e faremos a formulação de uma **hipótese bicaudal**. \n",
    "O objetivo de um teste de uma hipótese bicaudal é mostrar se a média amostral é significativamente maior ou menor do que a média de uma população.\n",
    "\n",
    "**Iremos definir o valor do Limiar Alpha em 5%**, ou seja, **0.05**. Isso significa que iremos verificar se um valor cai na área de 2,5% à esquerda da média ou 2,5% à direita da média e, se isso acontecer, podemos concluir que o nosso resultado experimental cumpre o requisito de significância estatística. Portanto, **rejeitamos a hipótese nula**.\n",
    "\n",
    "\n",
    "Na estatística, **A hipótese nula H0**, costuma representar a ideia de que não há diferença entre as médias (ou seja, elas são iguais). Já **A hipótese alternativa H1**, representa a ideia de que há diferença entre as médias (ou seja, elas são diferentes entre si).\n",
    "\n",
    "É sensato usar o **p-valor** para decidir aceitar ou rejeitar a hipótese nula. **O valor-p** é a probabilidade de obter um resultado pelo menos tão extremo quanto o que estamos considerando, supondo que a hipótese nula esteja correta. Se o **valor-p** for menor que **alpha**, rejeitamos a hipótese nula. Caso contrário, não podemos rejeitá-la."
   ]
  },
  {
   "cell_type": "markdown",
   "metadata": {},
   "source": [
    "**Porém, o teste-t nos exige um parâmetro \"equal_var\", para o qual devemos seguir da seguinte forma:**\n",
    "\n",
    "* Se as variâncias forem iguais, usaremos equal_var=True;\n",
    "* Se as variâncias forem diferentes, usaremos equal_var=False\n",
    "\n",
    "**Portanto, antes de seguirmos para o test-t, devemos primeiro verificar a igualdade das variâncias através do teste de Levene. Caso o p-valor para o teste de Levene seja menor do que o alpha, rejeitamos a hipótese nula.**"
   ]
  },
  {
   "cell_type": "code",
   "execution_count": 71,
   "metadata": {},
   "outputs": [
    {
     "name": "stdout",
     "output_type": "stream",
     "text": [
      "LeveneResult(statistic=6.295287176069245, pvalue=0.01251484281850554)\n"
     ]
    }
   ],
   "source": [
    "#TESTE DE LEVENE\n",
    "\n",
    "# Hipótese Nula (h0) = Não há uma diferença significativa entre as variâncias.\n",
    "# Hipótese Alternativa (h1) = Há uma diferença significativa entre as variâncias.\n",
    "\n",
    "alpha = 0.05\n",
    "\n",
    "levene_test = st.levene(xone_user_score_data, pc_user_score_data)\n",
    "\n",
    "print(levene_test)"
   ]
  },
  {
   "cell_type": "markdown",
   "metadata": {},
   "source": [
    "**Como o p-valor do teste de Levene é menor do que o nível de significância (alpha), rejeitamos a hipótese nula. Portanto, vamos considerar que as variâncias das amostras são estatisticamente diferentes e devemos utilizar \"equal_var = False\".**"
   ]
  },
  {
   "cell_type": "code",
   "execution_count": 72,
   "metadata": {},
   "outputs": [
    {
     "name": "stdout",
     "output_type": "stream",
     "text": [
      "valor-p 0.5489537965134912\n",
      "\n",
      "Como p-valor é maior que alpha, Não podemos rejeitar a hipótese nula\n"
     ]
    }
   ],
   "source": [
    "#TESTE T\n",
    "\n",
    "# Hipótese nula (h0): As classificações médias dos usuários das plataformas Xbox One e PC são iguais;\n",
    "# Hipótese Alternativa (h1): As classificações médias dos usuários das plataformas Xbox One e PC não são iguais.\n",
    "\n",
    "#definindo nível de significância\n",
    "alpha = 0.05\n",
    "\n",
    "# Realizando o ttest para cálculo do p-valor e chamando os dados obtidos anteriormente\n",
    "results = st.ttest_ind(xone_user_score_data, pc_user_score_data, equal_var = False)\n",
    "\n",
    "print('valor-p', results.pvalue)\n",
    "print()\n",
    "\n",
    "if results.pvalue < alpha:\n",
    "    print('Como p-valor é menor que alpha, rejeitamos a hipótese nula.')\n",
    "else:\n",
    "     print('Como p-valor é maior que alpha, Não podemos rejeitar a hipótese nula')"
   ]
  },
  {
   "cell_type": "markdown",
   "metadata": {},
   "source": [
    "**Como o valor-p obtido é maior que o valor de alpha, não podemos rejeitar a hipótese nula.\n",
    "Isso significa que estatísticamente não há diferença entre as médias de notas dadas pelos usuários das plataformas Xbox One e PC.**"
   ]
  },
  {
   "cell_type": "markdown",
   "metadata": {},
   "source": [
    "#### Testando a hipótese de que classificações médias de usuários para os gêneros Action (ação) e Sports (esportes) são diferentes: ####"
   ]
  },
  {
   "cell_type": "markdown",
   "metadata": {},
   "source": [
    "**Como iremos novamente comparar duas médias, faremos novamente a formulação de uma hipótese bicaudal. Portanto filtraremos os dados necessários e seguiremos da mesma forma dos testes realizados anteriormente, iniciando com teste Levene para verificação da igualdade das variâncias e posteriormente com o teste-t.**"
   ]
  },
  {
   "cell_type": "code",
   "execution_count": 73,
   "metadata": {},
   "outputs": [
    {
     "name": "stdout",
     "output_type": "stream",
     "text": [
      "[8.2, 8.1, 8.3, 6.6, 6.9, 9.1, 7.9, 6.7, 6.1, 8.1, 8.4, 6.3, 4.9, 7.6, 8.1, 4.1, 8.2, 6.8, 7.9, 8.9, 8.1, 7.8, 7.9, 7.0, 8.6, 9.0, 7.9, 7.7, 6.3, 7.5, 7.4, 7.6, 7.5, 7.9, 7.5, 6.5, 7.9, 5.1, 7.3, 5.1, 3.5, 7.1, 7.9, 4.5, 6.5, 7.2, 7.7, 4.2, 8.2, 6.8, 5.8, 7.9, 6.6, 4.8, 6.5, 7.9, 6.0, 7.1, 6.1, 8.1, 8.0, 7.2, 6.6, 6.1, 7.8, 7.5, 7.2, 8.7, 6.2, 8.0, 6.3, 5.0, 8.5, 8.3, 7.5, 6.5, 4.9, 7.9, 5.4, 7.8, 7.6, 5.5, 6.3, 6.8, 8.3, 7.7, 7.4, 8.4, 7.3, 7.7, 7.6, 6.4, 7.5, 5.9, 6.4, 7.3, 4.1, 7.7, 8.7, 7.1, 6.8, 6.2, 8.2, 7.0, 8.3, 7.0, 5.2, 7.2, 6.8, 4.1, 6.4, 8.5, 7.9, 6.9, 7.1, 7.4, 7.1, 7.6, 8.3, 8.8, 5.3, 8.0, 7.0, 6.3, 4.9, 8.2, 7.3, 5.2, 6.8, 7.2, 6.7, 8.0, 7.0, 7.1, 7.8, 7.1, 7.5, 1.6, 5.4, 8.0, 8.8, 7.3, 7.1, 7.2, 7.0, 7.1, 7.8, 6.7, 7.7, 7.7, 7.2, 7.7, 4.6, 7.2, 4.6, 7.4, 5.9, 8.5, 7.6, 6.6, 8.5, 5.9, 8.5, 6.8, 3.4, 7.7, 6.4, 3.0, 6.5, 6.9, 6.1, 8.1, 3.7, 5.5, 4.6, 5.6, 7.0, 7.8, 5.9, 6.2, 4.3, 7.6, 7.4, 7.6, 7.0, 6.9, 8.7, 7.5, 6.4, 7.0, 7.2, 4.7, 5.6, 8.3, 5.1, 4.1, 5.0, 7.4, 7.1, 8.4, 8.7, 8.0, 5.4, 6.8, 8.2, 4.5, 7.9, 6.9, 7.4, 8.5, 7.4, 6.6, 7.6, 8.2, 7.6, 7.8, 4.8, 6.9, 4.2, 7.4, 7.7, 8.0, 7.1, 8.0, 8.4, 3.2, 5.1, 7.9, 6.7, 5.4, 8.2, 7.4, 7.3, 4.8, 6.9, 5.7, 7.5, 7.4, 3.6, 3.3, 7.3, 7.7, 7.0, 7.3, 5.6, 5.7, 6.8, 7.8, 3.7, 6.3, 5.4, 7.7, 5.6, 7.1, 3.4, 7.3, 5.9, 8.0, 4.3, 6.8, 6.8, 5.5, 7.6, 6.4, 8.5, 3.5, 8.0, 7.4, 8.4, 3.7, 5.0, 4.4, 7.0, 6.5, 5.5, 8.8, 8.1, 6.5, 6.8, 4.3, 7.5, 5.6, 7.5, 8.6, 7.9, 7.6, 7.8, 8.4, 6.8, 8.2, 6.8, 5.9, 8.4, 7.6, 7.4, 7.4, 8.2, 7.6, 7.3, 7.9, 6.4, 5.1, 7.8, 7.1, 3.2, 7.5, 5.6, 8.8, 8.6, 7.5, 7.4, 8.0, 7.4, 7.2, 6.8, 7.4, 7.5, 8.0, 7.6, 7.2, 5.2, 7.9, 6.5, 8.1, 7.3, 6.3, 4.8, 3.7, 7.0, 6.8, 8.0, 7.5, 7.8, 8.2, 2.5, 8.1, 8.0, 6.0, 6.6, 5.0, 7.7, 5.3, 5.7, 5.9, 7.9, 8.0, 6.4, 7.1, 6.3, 8.7, 8.2, 2.5, 7.6, 6.4, 3.5, 7.5, 7.8, 5.7, 6.6, 8.2, 7.8, 7.2, 6.9, 6.9, 6.0, 6.5, 5.0, 7.8, 7.3, 7.3, 8.2, 6.8, 6.8, 7.6, 8.5, 8.6, 8.2, 7.9, 6.4, 4.4, 6.5, 7.8, 7.8, 7.5, 7.2, 6.8, 7.2, 6.5, 7.1, 4.9, 5.5, 4.5, 7.8, 6.4, 6.6, 7.6, 7.1, 6.1, 6.7, 7.8, 6.8, 7.1, 5.6, 8.4, 7.4, 7.5, 7.3, 7.6, 7.7, 6.1, 3.5, 7.7, 3.8, 6.6, 8.5, 6.8, 8.0, 7.9, 6.3, 8.0, 7.9, 7.8, 7.7, 7.6, 7.9, 6.8, 6.8, 7.9, 6.9, 6.5, 7.5, 8.4, 3.5, 7.4, 5.2, 7.4, 4.9, 3.4, 7.1, 5.1, 5.7, 7.4, 5.3, 7.0, 6.0, 4.3, 8.3, 5.8, 5.6, 7.7, 7.0, 8.3, 6.6, 3.8, 7.8, 8.1, 7.1, 6.3, 7.7, 6.4, 7.5, 5.2, 6.3, 8.3, 8.0, 7.8, 7.6, 7.6, 7.1, 6.9, 7.4, 6.6, 8.8, 8.3, 6.6, 7.8, 6.8, 6.4, 7.7, 8.2, 5.3, 7.6, 7.0, 7.9, 5.5, 6.1, 7.1, 5.8, 8.5, 5.4, 7.4, 2.4, 6.8, 6.6, 7.3, 7.4, 7.6, 2.0, 5.0, 4.3, 7.6, 5.8, 8.8, 8.4, 7.9, 8.1, 2.8, 3.1, 8.0, 7.1, 8.3, 6.2, 6.8, 2.3, 5.5, 7.1, 6.8, 7.9, 6.0, 8.5, 5.1, 6.7, 7.6]\n",
      "\n",
      "[4.3, 5.0, 4.3, 5.7, 4.5, 4.2, 6.7, 4.4, 5.9, 6.3, 7.2, 4.2, 5.8, 3.2, 5.5, 5.5, 4.9, 8.0, 7.0, 6.1, 6.2, 5.6, 6.1, 5.4, 4.9, 5.5, 6.7, 4.1, 4.9, 6.3, 3.0, 2.9, 6.4, 6.7, 2.7, 6.5, 3.5, 6.4, 5.9, 7.4, 5.8, 6.7, 5.1, 7.5, 7.7, 5.8, 6.1, 6.2, 5.1, 6.9, 3.2, 6.2, 7.8, 7.5, 5.7, 6.8, 5.2, 6.7, 7.7, 6.2, 5.9, 7.1, 3.1, 3.1, 7.2, 7.8, 4.6, 3.3, 7.7, 6.4, 6.6, 4.0, 5.5, 6.8, 5.5, 4.3, 5.1, 6.9, 3.6, 3.1, 5.7, 7.2, 7.8, 5.7, 4.3, 6.0, 5.7, 5.9, 6.0, 5.6, 6.4, 7.3, 8.2, 6.0, 6.3, 2.4, 2.8, 7.6, 5.3, 6.8, 5.4, 4.4, 7.5, 6.0, 3.2, 1.8, 4.6, 7.2, 8.2, 4.3, 1.7, 7.0, 3.8, 8.7, 1.6, 2.7, 6.2, 5.8, 6.9, 7.3, 6.6, 7.9, 4.2, 5.5, 4.0, 8.3, 2.7, 5.6, 5.2, 6.7, 6.8, 1.5, 4.4, 3.1, 4.4, 7.8, 3.4, 6.2, 5.1, 6.1, 0.7, 3.8, 7.3, 4.1, 6.8, 7.2, 7.0, 2.0, 7.4, 2.1, 3.4, 4.2, 0.2, 3.4, 7.5, 5.6, 6.2, 7.0, 5.7, 7.0, 3.1, 6.3, 6.9, 2.8, 5.8, 3.1, 4.1, 1.9, 3.0, 8.2, 7.8, 6.1, 4.3, 5.7, 6.8, 6.5, 4.8, 5.1, 8.0, 5.4, 6.8, 3.9, 4.5, 4.3, 3.7, 6.0, 7.1, 5.2, 6.3, 8.8, 6.9, 5.5, 4.5, 1.4, 6.6]\n"
     ]
    }
   ],
   "source": [
    "# Filtrando dados quando o gênero é \"Action\" e as notas de usuário são conhecidas (foco são jogos com notas)\n",
    "action_user_score = (df_games_recently[(df_games_recently['genre'] == 'action') & (~df_games_recently['user_score'].isna())])\n",
    "action_user_score_data = action_user_score['user_score'].tolist()\n",
    "\n",
    "# Filtrando dados quando o gênero é \"Sports\" e as notas de usuário são conhecidas (foco são jogos com notas)\n",
    "sports_user_score = (df_games_recently[(df_games_recently['genre'] == 'sports') & (~df_games_recently['user_score'].isna())])\n",
    "sports_user_score_data = sports_user_score['user_score'].tolist()\n",
    "\n",
    "print(action_user_score_data)\n",
    "print()\n",
    "print(sports_user_score_data)"
   ]
  },
  {
   "cell_type": "code",
   "execution_count": 74,
   "metadata": {},
   "outputs": [
    {
     "name": "stdout",
     "output_type": "stream",
     "text": [
      "LeveneResult(statistic=19.259864452764166, pvalue=1.3125789036876737e-05)\n"
     ]
    }
   ],
   "source": [
    "#TESTE DE LEVENE\n",
    "# Caso o p-valor para o teste de Levene seja menor do que o alpha, rejeitamos a hipótese nula\n",
    "\n",
    "# Hipótese Nula (h0) = Não há uma diferença significativa entre as variâncias.\n",
    "# Hipótese Alternativa (h1) = Há uma diferença significativa entre as variâncias.\n",
    "\n",
    "alpha = 0.05\n",
    "\n",
    "levene_test = st.levene(action_user_score_data, sports_user_score_data)\n",
    "\n",
    "print(levene_test)"
   ]
  },
  {
   "cell_type": "markdown",
   "metadata": {},
   "source": [
    "**Como o teste de Levene retornou um valor-p maior que o nível de significância (alpha), não podemos rejeitar a hipótese nula. portanto para o teste t consideraremos que as duas variâncias não são diferentes e utilizaremos \"equal_var = True\"**"
   ]
  },
  {
   "cell_type": "code",
   "execution_count": 75,
   "metadata": {},
   "outputs": [
    {
     "name": "stdout",
     "output_type": "stream",
     "text": [
      "valor-p 3.7163089460934874e-26\n",
      "Rejeitamos a hipótese nula\n"
     ]
    }
   ],
   "source": [
    "#TESTE T\n",
    "\n",
    "# Hipótese nula (h0): As classificações médias dos usuários dos gêneros Action e Sports são as mesmas;\n",
    "# Hipótese Alternativa (h1): As classificações médias dos usuários dos gêneros Action e Sports não são as mesmas.\n",
    "\n",
    "#definindo valor de alpha\n",
    "alpha = 0.05\n",
    "\n",
    "# Realizando o ttest para cálculo do p-valor e chamando os dados obtidos anteriormente\n",
    "results = st.ttest_ind(action_user_score_data, sports_user_score_data, equal_var = True)\n",
    "\n",
    "print('valor-p', results.pvalue)\n",
    "\n",
    "if results.pvalue < alpha:\n",
    "    print('Rejeitamos a hipótese nula')\n",
    "else:\n",
    "     print('Não podemos rejeitar a hipótese nula')"
   ]
  },
  {
   "cell_type": "markdown",
   "metadata": {},
   "source": [
    "**Como o valor-p obtido é menor que o valor de alpha, rejeitamos a hipótese nula.\n",
    "Isso significa que estatísticamente as médias de notas dadas pelos usuários são diferentes para jogos dos gêneros \"Action\" e \"Sports\".**"
   ]
  },
  {
   "cell_type": "markdown",
   "metadata": {},
   "source": [
    "### Conclusão geral: ###"
   ]
  },
  {
   "cell_type": "markdown",
   "metadata": {},
   "source": [
    "Começamos analisando o número de jogos lançados ao longo da história, do ano 1980 até 2016 e observamos que o mercado teve um grande 'boom' de lançamentos de jogos, iniciado no ano 2002 com a chegada do PS2 e que durou até o ano de 2011, quando teve uma queda e depois se estabilizou até 2016. Agora o mercado está estável em relação à quantidade de lançamentos de novos jogos por ano;\n",
    "\n",
    "Analisando mais detalhadamente as plataformas, observamos que as que somaram mais vendas ao longo dos anos foram: ps2, x360, ps3, wii e ds. Porém, algumas delas sequer estão presentes no mercado atual.\n",
    "Podemos perceber também que as plataformas seguem um padrão parecido em relação ao seu ciclo de vida, pois na média somem do mercado em cerca de 9 a 11 anos. Elas tem um crescimento cerca de 4 a 5 anos, seguido por um declínio de também 4 a 5 anos, vindo a ser retirado do mercado;\n",
    "\n",
    "Por este motivo citado acima, decidimos focar nos dados dos últimos 5 anos, pois assim conseguiremos ver se alguma plataforma surgiu nos últimos 3 anos e tem tendência de crescimento ou se ela já passou pelo período habitual de crescimento e tende a cair ou mesmo sair do mercado no próximo ano;\n",
    "\n",
    "Com estes dados de 2012 a 2016 analisados pudemos tirar algumas conclusões importantes. Nestes 5 anos, 11 plataformas estiveram presentes no mercado, mas para o ano de 2016, apenas 8 ainda estão presentes, sendo que para o próximo ano, a previsão é de que apenas 6 permaneçam no mercado (PS4, Xbox One, 3DS, PC, PSV e WiiU). Considerando que estamos em dezembro de 2016 e os dados deste ano estão completos, todas as plataformas já entraram na fase de declínio e as 3 últimas citadas já ocupando uma fatia muito pequena; \n",
    "\n",
    "Podemos observar também que a média de vendas dos jogos para as diferentes plataformas (considerando apenas as mais populares), é muito parecida. São poucos os jogos que se destacam muito no meio da multidão e faturam milhões de dólares. Para ser mais exato, de 2886 jogos analisados nos últimos 5 anos, apenas 40 jogos tiveram um faturamento acima de 5M USD, apenas 9 tiveram vendas acima de 10M USD e apenas 1 jogo conseguiu vendas acima de 20M USD, enquanto a média para jogos de plataformas estabelecidas fica em torno de 0.2M USD;\n",
    "\n",
    "Analisando as vendas dos jogos da plataforma Wii, podemos concluir que a correlação das vendas com as notas de avaliações de críticos e usuários é desprezível, pois esteve abaixo de 0.3 em ambos os casos. E analisando o desempenho dos mesmos jogos do Wii em outras plataformas, vimos um pequeno aumento dessa correlação com as avaliações dos críticos, mas ainda assim, representando uma correlação fraca, ou seja, as análises e avaliações de críticos e usuários impacta muito pouco na venda dos games;\n",
    "\n",
    "Em relação aos gêneros, podemos inferir que os de maior sucesso recente são: Action, Shooter, Role-Playing e Sports, enquanto que os jogos de Strategy e Puzzle não agradam a maioria e tem o menor desempenho. Porém, não podemos generalizar, pois analizando os 100 jogos mais amados e os 100 jogos mais odiados, podemos ver que existem gêneros que possuem um número equilibrado dentre os jogos mais amados e mais odiados. \n",
    "\n",
    "O único gênero que se destacou muito em relação a ter uma quantidade de jogos amados dentre o top-100, foi o gênero Shooter. Outros se mostraram parelhos e alguns se mostraram com resultados mais negativos, como adventure, strategy e puzzle. Um resultado interessante foi o do gênero Action, por exemplo, pois ele aparece como o segundo colocado dentre os 100 melhores games, mas também aparece como o segundo que mais tem jogos ruins;\n",
    "\n",
    "Agora olhando mais detalhadamente para as diferentes regiões, podemos observar muita similaridade entre os mercados da América do Norte e da Europa. Porém, o mercado japonês apresenta muitas diferenças se comparado aos outros 2, como por exemplo:\n",
    "\n",
    "As 5 plataformas que lideram o mercado japonês sequer são as mesmas que lideram os outros dois mercados avaliados. No top-5 japonês temos 2 plataformas que não aparecem dentre as 5 primeiras dos outros mercados: PSV e WiiU e, além disso, a plataforma que lidera o mercado japonês é 3DS, ocupando uma fatia de mais de 45% do mercado, sendo que esta plataforma é apenas 5ª colocada nos outros mercados avaliados, mordendo uma fatia menor do que 10%;\n",
    "\n",
    "Outra diferença importante olhando para o mercado japonês é que a plataforma X360, a mais forte das Américas e a terceira da Europa nos últimos 5 anos, não aparece no top-5 japonês e ocupa uma fatia irrelevante do mercado (0.8%). O mesmo acontece com a plataforma Xbox One, que é a 4ª colocada na América e na Europa, ocupando 15% e 10% do mercado respectivamente, mas no japão praticamente não existe, e ocupa uma fatia de míseros 0.18%;\n",
    "\n",
    "**E as diferenças do mercado japonês não param por aí:**\n",
    "\n",
    "Os gêneros preferidos da América do Norte e Europa são os mesmos nas 4 primeiras posições do ranking (action, shooter, sports, role-playing), mais uma vez mostrando grande similaridade entre estes mercados. Mas o Japão tem um comportamento bem diferente, sendo que os primeiros do ranking do país são (role-playing, action, misc, simulation e fighting), muito diferente dos outros mercados;\n",
    "\n",
    "Em relação as classificações ESRB, o mercado japonês mais uma vez apresentou diferenças, sendo que para os mercados americano e europeu a classificação ESRB influencia diretamente nas vendas dos jogos, sendo que jogos de classificação Mature (M) são disparadamente os mais vendidos, seguidos por jogos de classificação livre (E) e depois por jogos para maiores de 10 anos (E10+) e Teen (T);\n",
    "Para o mercado japonês, a classificação ESRB não interfere de forma similar às outras regiões analisadas. É possível observar que o comportamento do mercado japonês é muito parecido para jogos de classificação livre (E), Teen (T) e Mature (M), sendo que o mercado de jogos Mature (M) é apenas o terceiro colocado, enquanto nas outras regiões lidera com folga absoluta.\n",
    "\n",
    "**Por fim, testamos duas hipóteses:**\n",
    "\n",
    "\n",
    "1ª Que as classificações médias dos usuários das plataformas Xbox One e PC são as mesmas. Neste caso não podemos rejeitar a hipótese nula, que nos dizia que não há diferença entre as médias de notas dadas pelos usuários das plataformas Xbox One e PC,  pois o p-valor obtido foi de 0.55 e o alpha estabelecido foi de 0.05;\n",
    "\n",
    "2ª Que as classificações médias de usuários para os gêneros Action e Sports são diferentes. Neste caso rejeitamos a hipótese nula. Portanto, as médias de notas dadas pelos usuários são de fato diferentes para jogos dos gêneros \"Action\" e \"Sports\". O p-valor obtido nesta análise foi de 3.71e-26 e o alpha estabelecido também era de 0.05.\n"
   ]
  },
  {
   "cell_type": "markdown",
   "metadata": {},
   "source": [
    "**EM RESUMO:**\n",
    "\n",
    "* O mercado de games vem apresentando uma queda nos últimos anos;\n",
    "\n",
    "\n",
    "* As plataformas costumam ter um ciclo de vida de 9 a 11 anos (4 a 5 anos de crescimento, 4 a 6 anos de declínio);\n",
    "\n",
    "\n",
    "* Para o próximo ano, a tendência é de que tenhamos somente 6 plataformas no mercado (PS4, Xbox One, 3DS, PC, PSV e WiiU);\n",
    "\n",
    "\n",
    "* A média de vendas dos jogos não é muito diferente quando comparamos somente as plataformas de renome;\n",
    "\n",
    "\n",
    "* São raros os jogos que se destacam muito e vendem milhões de USD (40 jogos faturaram acima de 5M USD entre 2886 analisados);\n",
    "\n",
    "\n",
    "* A correlação das vendas com as notas de avaliações de críticos e usuários é desprezível e impacta muito pouco nas vendas;\n",
    "\n",
    "\n",
    "* Os gêneros de maior sucesso recente são: Action, Shooter, Role-Playing e Sports, enquanto que os jogos de Strategy e Puzzle não agradam a maioria e tem o menor desempenho;\n",
    "\n",
    "\n",
    "* Porém, não podemos generalizar, pois alguns gêneros possuem um número equilibrado dentre os jogos mais amados e mais odiados;\n",
    "\n",
    "\n",
    "* O único gênero que se destacou muito em relação a ter uma quantidade de jogos amados dentre o top-100, foi o gênero Shooter;\n",
    "\n",
    "\n",
    "* Os gêneros que se mostraram com resultados mais negativos, foram adventure, strategy e puzzle;\n",
    "\n",
    "\n",
    "* As plataformas e gêneros preferidos, assim como o impacto das classificações ESRB nos mercados da América e Europa são bastante semelhantes entre si, podendo muitas vezes ser realizada a mesma campanha. Porém, se diferem muito do mercado japonês, que deve ser tratado a parte."
   ]
  },
  {
   "cell_type": "markdown",
   "metadata": {},
   "source": [
    "<center> \n",
    "\n",
    "# Renan Rosental de Oliveira # \n",
    "\n",
    
    "\n"
   ]
  }
 ],
 "metadata": {
  "kernelspec": {
   "display_name": "Python 3 (ipykernel)",
   "language": "python",
   "name": "python3"
  },
  "language_info": {
   "codemirror_mode": {
    "name": "ipython",
    "version": 3
   },
   "file_extension": ".py",
   "mimetype": "text/x-python",
   "name": "python",
   "nbconvert_exporter": "python",
   "pygments_lexer": "ipython3",
   "version": "3.9.19"
  },
  "toc": {
   "base_numbering": 1,
   "nav_menu": {},
   "number_sections": true,
   "sideBar": true,
   "skip_h1_title": true,
   "title_cell": "Table of Contents",
   "title_sidebar": "Contents",
   "toc_cell": false,
   "toc_position": {},
   "toc_section_display": true,
   "toc_window_display": false
  }
 },
 "nbformat": 4,
 "nbformat_minor": 2
}
